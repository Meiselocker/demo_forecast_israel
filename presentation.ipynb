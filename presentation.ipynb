{
 "cells": [
  {
   "cell_type": "markdown",
   "metadata": {
    "colab_type": "text",
    "id": "vML51laesLNV"
   },
   "source": [
    "# The demographic future of Israel: Investigating possible scenarios with dynamic modelling\n",
    "\n",
    "Israel is characterized by strong internal divisions between religious and ethnic groups, each striving to break the status quo and put forward a political agenda that would serve its interest. Although this scheme, one would argue, is natural to any population and inherent to any political activity, the common values shared by the main groups are so few that one could say with certainty that any change in the power balances will have tremendous eﬀects on the life of the people in the country, and perhaps even in the whole region. It is clear that the respective sizes of the diﬀerent groups will be the key variable in determining the future of the country. \n",
    "\n",
    "In this notebook, I investigate possible future development of the population of diﬀerent groups in the Israeli populations. The number of these groups is very large, but three are clearly distinguishable by their radically diﬀerent ways of life, ideology, and political agenda: the non-Orthodox Jews, the Orthodox Jews (also called Haredi, pl. Haredim), and the Muslims. The ﬁrst group, representing about 70 % of the population, is currently dominating the political life of the country, and, although it is divided about questions of foreign policy, it shares the consensus around the Jewish, secular and democratic character of the country. The second group, the Orthodox Jews, representing around 10% of the population, are mainly interested in imposing a more religious, very conservative way of life on the country. The third group, the Arab Mulsims (8%), although beneﬁting from equal rights as citizens, are mainly opposed to the Jewish character of the State and interested in an integration of the country into the political landscape of the Middle East.\n",
    "These three groups are characterized by diﬀerent fertility trajectories and levels over the last decades. The fertility rates of the Arabs, while being traditionally very high, have been constantly decreasing in the last decades and are now converging towards those of the non-Orthodox Jews, which remained roughly constant over time. On the other hand, the Ultra-Orthodox Jews, originally of a negligible size, have been growing exponentially due to very high fertility rates. \n",
    "\n",
    "Based on statistics of the [Israeli Central Bureau of Statistics (CBS)](http://cbs.gov.il/en/) and a few working assumptions, I forecast the populations of these three groups for the upcoming 100 years. There exist several possible demographic trajectories for these groups. The interactive plotting tool in the end of this notebook allows the exploration of these trajectories under different scenarios."
   ]
  },
  {
   "cell_type": "markdown",
   "metadata": {},
   "source": [
    "**Importing libraries**"
   ]
  },
  {
   "cell_type": "code",
   "execution_count": 6,
   "metadata": {
    "colab": {},
    "colab_type": "code",
    "id": "dHw_el4csLNW",
    "scrolled": true
   },
   "outputs": [],
   "source": [
    "import pandas as pd\n",
    "import numpy as np\n",
    "import matplotlib.pyplot as plt"
   ]
  },
  {
   "cell_type": "markdown",
   "metadata": {
    "colab_type": "text",
    "id": "jfAtDsmUxcwc"
   },
   "source": [
    "**Reading data in and transforming to yearly format**\n",
    "\n",
    "*vital_stats.csv* are vital statistics and migration data that I prepared based on the statistics of the Israeli CBS. \n",
    "\n",
    "They are stored as a data frame with the following columns\n",
    "1: age\n",
    "2: Non-haredi Jewish male mortality\n",
    "3: Non-haredi Jewish female mortality\n",
    "4: Arab Muslim male mortality\n",
    "5: Arab Muslim female mortalty\n",
    "6: Haredi male mortality (assumed to be the same as their non-haredi Jewish pairs)\n",
    "7: Haredi female mortality (assumed to be the same as their non-haredi Jewish pairs)\n",
    "8: Non-haredi Jewish fertility\n",
    "9: Muslim Arab fertility\n",
    "10: Haredi fertility\n",
    "11: Overall male emigration\n",
    "12: Overall female emigration\n",
    "13: Jewish male migration (Aliyah)\n",
    "14: Jewish female migration (Aliyah)"
   ]
  },
  {
   "cell_type": "code",
   "execution_count": 7,
   "metadata": {
    "colab": {},
    "colab_type": "code",
    "id": "amTAofSrsLNc",
    "scrolled": true
   },
   "outputs": [],
   "source": [
    "vs = pd.read_csv(\"vital_stats.csv\")\n",
    "vs[\"span\"] = np.append(np.array([1,4]), np.repeat(5,19))#number of years per age group\n",
    "vs = vs.iloc[:,1:].reindex(vs.index.repeat(vs.span))#reindexing to yearly format\n",
    "vs.reset_index(drop = True, inplace = True)\n",
    "vs.iloc[:, -2:] = vs.iloc[:, -2:].div(vs.span, axis = 0)#dividing migration rate to match a single year\n",
    "vs.drop(\"span\", axis = 1, inplace = True)\n",
    "vs.iloc[:,:-2] = vs.iloc[:,:-2]/1000#migration rate per thousand"
   ]
  },
  {
   "cell_type": "markdown",
   "metadata": {
    "colab_type": "text",
    "id": "Nhn2hkKvxiqT"
   },
   "source": [
    "## Mortality and fertility rates\n",
    "\n",
    "Since the population clustered by truncated age on Jan 1, the mortality and fertility rates are for an age group is the average between the truncated age on Jan 1 x and x+1. "
   ]
  },
  {
   "cell_type": "code",
   "execution_count": 8,
   "metadata": {
    "colab": {},
    "colab_type": "code",
    "id": "zaxxqVK8sLNg",
    "scrolled": true
   },
   "outputs": [],
   "source": [
    "mx = vs.loc[:,vs.columns.str.match(\"m_.*\")].values#numpy array\n",
    "mx_ = (mx[:-1,:] + mx[1:,:])/2#\n",
    "mx_ = np.row_stack([mx[0,]/2, mx_])\n",
    "\n",
    "fx = vs.loc[:,vs.columns.str.match(\"f_.*\")].values\n",
    "fx_ = np.row_stack([(fx[1:,:] + fx[:-1,:])/2,\n",
    "                    fx[-1,:]])#averaging rates for age x and x+1"
   ]
  },
  {
   "cell_type": "markdown",
   "metadata": {
    "colab_type": "text",
    "id": "NU5F8pgnyv2A"
   },
   "source": [
    "**Functions for 1-sex and 2-sex Leslie matrices**\n",
    "\n",
    "A Leslie matrix $L^F$ for the female population contains the age-specific birth counts per woman during t and survivorships to the next age group, so that a dot multiplication of an age-specific female population vector at time t **$n^F_t$** by **$L^F$** yields the female population vector for next time unit t, **$n^F_{t+1}$**.\n",
    "\n",
    "Here is an example of simple a Leslie matrix (for 4 age groups). $s^F_x$ are the age-specific survivorships for females and $b^F_x$ the daughters counts per woman.\n",
    "\n",
    "$$\n",
    "\\begin{bmatrix}\n",
    "N_0 (t+1)\\\\N_1 (t+1)\\\\N_2 (t+1) \\\\N_3 (t+1) \n",
    "\\end{bmatrix}\n",
    "=\n",
    "\\begin{bmatrix}\n",
    "b^F_0 & b^F_1 & b^F_2 & b^F_3\\\\\n",
    "s^F_0 & 0 & 0 & 0\\\\\n",
    "0 & s^F_1 & 0 & 0\\\\\n",
    "0 & 0 & s^F_2 & 0\\\\\n",
    "\\end{bmatrix}\n",
    "\\cdot\n",
    "\\begin{bmatrix}\n",
    "N_0 (t)\\\\N_1 (t)\\\\N_2 (t) \\\\N_3 (t) \n",
    "\\end{bmatrix}\n",
    "$$\n",
    "\n",
    "If we want to integrate males into this equation, we stack the vectors for female and male populations, we remove $b_x$ from the male Leslie matrix $L^M$, as they don't give birth, but create a separate matrix **$B^M$**, which generates birth by multiplication with the female population: \n",
    "\n",
    "$$\n",
    "\\begin{bmatrix}\n",
    "\\mathbf{N^F}(t+1) \\\\ \\mathbf {N^M} (t+1)\n",
    "\\end{bmatrix}\n",
    "=\n",
    "\\begin{bmatrix}\n",
    "\\mathbf{L^F} & 0 \\\\\n",
    "\\mathbf{B^M} & \\mathbf{L^M}\n",
    "\\end{bmatrix}\n",
    "\\cdot\n",
    "\\begin{bmatrix}\n",
    "\\mathbf{N^F}(t) \\\\ \\mathbf {N^M} (t)\n",
    "\\end{bmatrix}\n",
    "$$\n",
    "\n",
    "Where\n",
    "$$\n",
    "\\mathbf{B^M} = \n",
    "\\begin{bmatrix}\n",
    "b^M_0 & b^M_1 & b^M_2 & b^M_3\\\\\n",
    "0 & 0 & 0 & 0\\\\\n",
    "0 & 0 & 0 & 0\\\\\n",
    "0 & 0 & 0 & 0\\\\\n",
    "\\end{bmatrix}\n",
    "$$, \n",
    "$$\n",
    "\\mathbf{L^M} = \n",
    "\\begin{bmatrix}\n",
    "0 & 0 & 0 & 0\\\\\n",
    "s^M_0 & 0 & 0 & 0\\\\\n",
    "0 & s^M_1 & 0 & 0\\\\\n",
    "0 & 0 & s^M_2 & 0\\\\\n",
    "\\end{bmatrix}\n",
    "$$"
   ]
  },
  {
   "cell_type": "code",
   "execution_count": 9,
   "metadata": {
    "colab": {},
    "colab_type": "code",
    "id": "mcQTgNRFsLNl",
    "scrolled": true
   },
   "outputs": [],
   "source": [
    "def Leslie(mx, fx = None):\n",
    "    sx = 1-mx/(1+0.5*mx)#from rate to death probability\n",
    "    L = np.zeros((100, 100))\n",
    "    np.fill_diagonal(L[1:,:-1], sx[1:])\n",
    "    if fx is not None:\n",
    "        bx = sx[0]*(fx*(1-(1-sx)/2))#new births times survival of first year times women's average survival\n",
    "        bx = bx*(1/2.05)#male ratio\n",
    "        L[0,:] = bx\n",
    "    return L\n",
    "def Leslie_2S(mx_f, mx_m, fx):\n",
    "    top_left = Leslie(mx_f, fx)\n",
    "    bottom_right = Leslie(mx_m)\n",
    "    bottom_left = np.zeros((100,100))\n",
    "    sx_f = 1-mx_f/(1+0.5*mx_f)\n",
    "    newborn_s = 1-mx_m[0]/(1+0.5*mx_m[0])\n",
    "    bottom_left[0,:] = newborn_s*(1.05/2.05)*(fx*(1-(1-sx_f)/2))\n",
    "    L = np.zeros((200,200))\n",
    "    L[:100,:100] = top_left\n",
    "    L[100:,:100] = bottom_left\n",
    "    L[100:, 100:] = bottom_right\n",
    "    return L  "
   ]
  },
  {
   "cell_type": "markdown",
   "metadata": {
    "colab_type": "text",
    "id": "GVQRtkvty-8j"
   },
   "source": [
    "**Reading population structure at time 0 (2016 - 2018)**"
   ]
  },
  {
   "cell_type": "code",
   "execution_count": 10,
   "metadata": {
    "colab": {},
    "colab_type": "code",
    "id": "X2MCU5htsLNq",
    "scrolled": false
   },
   "outputs": [],
   "source": [
    "n0 = pd.read_csv(\"n0.csv\")\n",
    "n0 = n0.iloc[:,1:].interpolate()#interpolation for last age groups \n",
    "n0 = n0.values\n",
    "n0[-2:, :] = n0[-2:, :]/np.array([2,4])[:,None] #interpolating to zero for last rows"
   ]
  },
  {
   "cell_type": "markdown",
   "metadata": {
    "colab_type": "text",
    "id": "ncXQEE8BzMMH"
   },
   "source": [
    "The Haredi population is estimated to be around 1M individuals as of the end of the 2010's. However, we don't have data for the poplation structure of the Haredim. To approximate it, we derive the stable age structure from their Leslie matrix. This can be done by taking the dominant eigen vector of them matrix. "
   ]
  },
  {
   "cell_type": "code",
   "execution_count": 11,
   "metadata": {
    "colab": {},
    "colab_type": "code",
    "id": "J8HXeY65zLXI",
    "scrolled": true
   },
   "outputs": [],
   "source": [
    "L_h = Leslie_2S(mx_[:,5], mx_[:,4], fx_[:,2])#2-sex Leslie matrix\n",
    "eigvals, eigvecs = np.linalg.eig(L_h)#working out eigenvalues and vectors\n",
    "pyramids = np.abs(eigvecs[:,np.argmax(eigvals)])#dominant eigenvector\n",
    "age_struct_fh = pyramids[:100]/pyramids[:100].sum()#standardizing\n",
    "age_struct_mh = pyramids[100:]/pyramids[100:].sum()\n",
    "#we multiply 1M by the estimated share for each age, adjusted by the estimated living male-female ratio\n",
    "n0 = np.column_stack([n0, age_struct_mh*1000*(1.03/2.03), age_struct_fh*1000*(1/2.03)])\n",
    "n0[:,0] -= n0[:,-1]#extracting Haredi population from overall Jewish population\n",
    "n0[:,1] -= n0[:,-2]"
   ]
  },
  {
   "cell_type": "markdown",
   "metadata": {
    "colab_type": "text",
    "id": "bBAMdbGFzdah"
   },
   "source": [
    "**Migration**\n",
    "\n",
    "Outmigration is estimated by taking the number of Israelis leaving the countries minus those who return. The age-specific distribution by religion is unknown, but we know that Jews are about 1.4 more likely to leave. Therefore we approximate the  religion- and population-specific outmigration rates based on population structures and by multiplying by the all-age religion-specific likelihood to emigrate.\n",
    "\n",
    "In-migration is almost exclusively Jewish (\"Alyiah\"). The age-specific distribution is given. We assume that it distributes 90% - 10% between non-haredim and haredim. "
   ]
  },
  {
   "cell_type": "code",
   "execution_count": 12,
   "metadata": {
    "colab": {},
    "colab_type": "code",
    "id": "6iS6v80AsLNt",
    "scrolled": true
   },
   "outputs": [],
   "source": [
    "n0_m = n0[:, [0,2,4]]#male population\n",
    "n0_f = n0[:, [1,3,5]]#female population\n",
    "props_m = n0_m/n0_m.sum()#proporions\n",
    "props_f = n0_f/n0_f.sum()\n",
    "props_m *= np.array([1.4, 1, 1.4])#multiplying by religion specific factor\n",
    "props_f *= np.array([1.4, 1, 1.4])\n",
    "props_m /= props_m.sum(axis = 1)[:,None]#standardizing\n",
    "props_f /= props_f.sum(axis = 1)[:,None]\n",
    "\n",
    "ex = vs.loc[:,vs.columns.str.match(\"out_\")].values#outmigration rates\n",
    "ex_f = props_f*ex[:,1][:,None]#religion and age specific rates for females\n",
    "ex_m = props_m*ex[:,0][:,None]#and males\n",
    "ex = np.zeros((100,6))\n",
    "ex[:,[0,2,4]] = ex_m\n",
    "ex[:,[1,3,5]] = ex_f\n",
    "ex_ = np.row_stack([ex[0,:]/2,\n",
    "                   (ex[1:,:]+ex[:-1,:])/2])\n"
   ]
  },
  {
   "cell_type": "markdown",
   "metadata": {
    "colab_type": "text",
    "id": "-q_YHFPgz9L-"
   },
   "source": [
    "**Population-specific projections**"
   ]
  },
  {
   "cell_type": "code",
   "execution_count": 20,
   "metadata": {
    "colab": {
     "base_uri": "https://localhost:8080/",
     "height": 282
    },
    "colab_type": "code",
    "id": "w3IPFqQssLNw",
    "outputId": "df56cc9b-401b-4e1d-acae-f80da8a95020",
    "scrolled": true
   },
   "outputs": [
    {
     "data": {
      "text/plain": [
       "<matplotlib.legend.Legend at 0x1fa472b08d0>"
      ]
     },
     "execution_count": 20,
     "metadata": {},
     "output_type": "execute_result"
    },
    {
     "data": {
      "image/png": "[encoded data removed]",
      "text/plain": [
       "<Figure size 432x288 with 1 Axes>"
      ]
     },
     "metadata": {
      "needs_background": "light"
     },
     "output_type": "display_data"
    }
   ],
   "source": [
    "#population vectors\n",
    "N_h = np.zeros((200, 100))#haredi\n",
    "N_nh = np.zeros((200, 100))#non-haredi jews\n",
    "N_a = np.zeros((200, 100))#muslim arabs\n",
    "#Leslie matrices for each group\n",
    "L_h = Leslie_2S(mx_[:,5]+ex_[:,5],\n",
    "                mx_[:,4]+ex_[:,4],\n",
    "               fx_[:,2])\n",
    "L_a = Leslie_2S(mx_[:,3]+ex_[:,3],\n",
    "                mx_[:,2]+ex_[:,2],\n",
    "               fx_[:,1])\n",
    "L_nh = Leslie_2S(mx_[:,1]+ex_[:,1],\n",
    "                mx_[:,0]+ex_[:,0],\n",
    "               fx_[:,0])\n",
    "#stacking both sexes \n",
    "Nt_h = np.concatenate([n0[:,5], n0[:,4]])\n",
    "Nt_nh = np.concatenate([n0[:,1], n0[:,0]])\n",
    "Nt_a = np.concatenate([n0[:,3], n0[:,2]])\n",
    "\n",
    "in_migr = np.concatenate([vs.iloc[:,-1], vs.iloc[:,-2]])#stacking immigration for both sexes\n",
    "#matrix product of Leslie matrix and population vector at t + immigration \n",
    "for i in range(100):\n",
    "    N_h[:,i] = L_h@Nt_h + 0.1*in_migr\n",
    "    N_nh[:,i] = L_nh@Nt_nh + 0.9*in_migr\n",
    "    N_a[:,i] = L_a@Nt_a\n",
    "    \n",
    "    Nt_h = N_h[:,i]\n",
    "    Nt_nh = N_nh[:,i]\n",
    "    Nt_a = N_a[:,i]\n",
    "S = np.column_stack([N_nh.sum(axis = 0),\n",
    "                     N_a.sum(axis = 0), \n",
    "                     N_h.sum(axis = 0)])\n",
    "plt.plot(range(2018, 2118), N_nh.sum(axis = 0), label = \"Non-Haredi\")\n",
    "plt.plot(range(2018, 2118), N_a.sum(axis = 0), label = \"Muslim\")\n",
    "plt.plot(range(2018, 2118), N_h.sum(axis = 0), label = \"Haredi\")\n",
    "plt.xlabel(\"Year\")\n",
    "plt.ylabel(\"Pop. in thousands\")\n",
    "plt.legend()"
   ]
  },
  {
   "cell_type": "markdown",
   "metadata": {},
   "source": [
    "Under an assumption of constant fertility and mortality, the Ultra Orthodox population (Haredim) grows exponentially and becomes the largest group within 50-60 years.\n"
   ]
  },
  {
   "cell_type": "markdown",
   "metadata": {
    "colab_type": "text",
    "id": "gyT8Q5iy0Lt-"
   },
   "source": [
    "**Adding defection rates**\n",
    "\n",
    "According to recent estimates, about 9% of Haredi-born will become non-haredi over their life course. This occurs mainly during young adulthood (18-late 20's). We model the age distribution with the gamma distribution. To integrate defection into the model, we create a single Leslie matrix for all populations:\n",
    "\n",
    "$$\n",
    "\\begin{bmatrix}\n",
    "N^{NHJ} (t)\\\\N^{Mus} (t)\\\\N^{Har} (t)\\\\ \n",
    "\\end{bmatrix}\n",
    " = \n",
    "\\begin{bmatrix}\n",
    "L^{NHJ} & 0 & D^{H-> NHJ}\\\\\n",
    "0 & L^{Mus} & 0\\\\\n",
    "0 & 0 & L^{Har}\n",
    "\\end{bmatrix}\n",
    "\\cdot\n",
    "\\begin{bmatrix}\n",
    "N^{NHJ} (t+1)\\\\N^{Mus} (t+1)\\\\N^{Har} (t+1)\\\\ \n",
    "\\end{bmatrix}\n",
    "$$\n",
    "\n",
    "Where $D^{H-> NHJ}$ is the defection matrix from Haredi to non-haredi, i.e. a zero-matrix whose diagonal is filled with defection probabilities. "
   ]
  },
  {
   "cell_type": "code",
   "execution_count": 21,
   "metadata": {
    "colab": {},
    "colab_type": "code",
    "id": "Oc6H5vuhsLNz",
    "scrolled": true
   },
   "outputs": [],
   "source": [
    "from scipy.stats import gamma\n",
    "def defection_rate(survival_prob):\n",
    "    \"\"\"\n",
    "    survival_prob: probability to survive (i.e. not to pass to another population)\n",
    "    return the defection rates as modelled with a gamma distributi given the survival probability. \n",
    "    \"\"\"\n",
    "    #defection rate distribution bu age\n",
    "    dx = np.diff(gamma.cdf(np.arange(0,100,1), a = 2, scale = 1.5, loc = 18))*(-np.log(survival_prob)) \n",
    "    dx = np.append(dx, 0)\n",
    "    dx_ = (dx[:-1]+dx[1:])/2#averaging age rates of age x and x+1\n",
    "    dx_ = np.append(dx_, 0)\n",
    "    return dx\n",
    "def Leslie_all(mx_, ex_, dx_, fx_):\n",
    "    L = np.zeros((600,600))\n",
    "    #adding rates of disappearing from haredi population (death, emigration and defection)\n",
    "    rates_hf = mx_[:,5] + ex_[:,5] + dx_\n",
    "    rates_hm = mx_[:,4] + ex_[:,4] + dx_\n",
    "    #Leslie for non Haredim\n",
    "    L[:200, :200] = Leslie_2S(mx_[:,1] + ex_[:,1],\n",
    "                              mx_[:,0] + ex_[:,0],\n",
    "                              fx_[:,0])\n",
    "    #Leslie for Muslim Arabs\n",
    "    L[200:400, 200:400] = Leslie_2S(mx_[:,3] + ex_[:,2],\n",
    "                              mx_[:,2] + ex_[:, 2],\n",
    "                              fx_[:,1])\n",
    "    #Leslie for Haredim\n",
    "    L[400:600, 400:600] = Leslie_2S(rates_hf,\n",
    "                              rates_hm,\n",
    "                              fx_[:,2])\n",
    "    probs_hm = rates_hm/(1+0.5*rates_hm)#probability to disappear from Haredi population\n",
    "    probs_hf = rates_hf/(1+0.5*rates_hf)#\n",
    "    probs = np.concatenate([probs_hf, probs_hf])\n",
    "    #adding haredi defectors to non haredim, adjusted for probabilities not to survive in the Haredi population\n",
    "    np.fill_diagonal(L[1:200, 400:-1], (np.concatenate([dx_, dx_])*0.5*(1+probs))[:-1])\n",
    "    return L"
   ]
  },
  {
   "cell_type": "markdown",
   "metadata": {},
   "source": [
    "**Modelling with defection**\n",
    "\n",
    "We integrate defection into the model with the Leslie matrix defined above (*Leslie_all(...)*). We can see that the stable, long term growth rate, as given by the dominant eigenvalue of the Leslie matrix for all populations, is driven by the Haredi growth rate, despite defection rates of ~10%. However, it takes about 300 years untill we reach this rate."
   ]
  },
  {
   "cell_type": "code",
   "execution_count": 16,
   "metadata": {
    "colab": {
     "base_uri": "https://localhost:8080/",
     "height": 445
    },
    "colab_type": "code",
    "id": "4Q6TXViCsLN2",
    "outputId": "f90da935-3f0e-4ab2-d21b-cbc02ef8a9d4",
    "scrolled": false
   },
   "outputs": [
    {
     "data": {
      "text/plain": [
       "Text(2170, 0.028, 'share of haredim increases')"
      ]
     },
     "execution_count": 16,
     "metadata": {},
     "output_type": "execute_result"
    },
    {
     "data": {
      "image/png": "[encoded data removed]",
      "text/plain": [
       "<Figure size 504x504 with 1 Axes>"
      ]
     },
     "metadata": {
      "needs_background": "light"
     },
     "output_type": "display_data"
    }
   ],
   "source": [
    "dx_ = defection_rate(0.9)#defection rates for a life-long probability of 90% to stay in the Haredi world\n",
    "#population vector\n",
    "N0 = np.zeros((600,))\n",
    "N0[:200] = np.concatenate([n0[:,1], n0[:,0]])\n",
    "N0[200:400] = np.concatenate([n0[:,3], n0[:,2]])\n",
    "N0[400:600] = np.concatenate([n0[:,5], n0[:,4]])\n",
    "\n",
    "L = Leslie_all(mx_, ex_, dx_, fx_)\n",
    "N = np.zeros((600,300))\n",
    "Nt = N0\n",
    "for i in range(300):\n",
    "  Nt = L@Nt  \n",
    "  Nt += np.concatenate([in_migr*0.9, in_migr*0, in_migr*0.1])\n",
    "  N[:,i] = Nt\n",
    "n = N.sum(axis = 0)\n",
    "fig, ax = plt.subplots(figsize = (7,7))\n",
    "ax.set_title(\"Israel's total growth rate\")\n",
    "ax.set_xlabel(\"Year\")\n",
    "ax.set_ylabel(\"growth rate\")\n",
    "ax.plot(range(2018, 2317), -1 + n[1:]/n[:-1])\n",
    "ax.axhline(y = -1 + np.abs(np.linalg.eig(L)[0]).max(), color = \"red\")\n",
    "ax.annotate('stable growth rate', xy=(2320, 0.036),  xycoords='data',\n",
    "            xytext=(2238, 0.032),\n",
    "            arrowprops=dict(facecolor='black', shrink = 0.05),\n",
    "            horizontalalignment='left')\n",
    "ax.annotate('structure effect', xy=(2050, 0.019),  xycoords='data',\n",
    "            xytext=(2040, 0.025),\n",
    "            arrowprops=dict(facecolor='black', shrink = 0.05),\n",
    "            horizontalalignment='center')\n",
    "ax.annotate('share of haredim increases', xy=(2120, 0.025),  xycoords='data',\n",
    "            xytext=(2170, 0.028),\n",
    "            arrowprops=dict(facecolor='black', shrink = 0.05),\n",
    "            horizontalalignment='left')"
   ]
  },
  {
   "cell_type": "markdown",
   "metadata": {
    "colab_type": "text",
    "id": "kXvn7kxMTtw-"
   },
   "source": [
    "**Dynamic modelling**\n",
    "\n",
    "So far, we assumed that mortality, fertility, migration and defection rates are stable over time. This is unlikely to happen. Here, we define a few functions that accommodate possible changes. \n",
    "\n",
    "First, **we have observed a decline in fertility in many societies**, including the Muslim world. The Muslim socieity in Israel is undoubtedly undergoing such changes, and clearly converges towards a two-child family norm. Whether this is will be the case is unclear. **No significant trend of decreasing fertility could be observed for Haredi women**, and [total fertility fluctuated around 7 children per woman since around 1990](https://www.cbs.gov.il/en/publications/Pages/pw/Fertility-among-Jewish-Women-in-Israel-by-Level-of-Religiosity-1979-2014.aspx). \n",
    "\n",
    "Second, **fertility can be driven endogenously by the share of a group in the population**. For instance, we can imagine that as the share of Haredim in the total population will grow, the capacity of the society to sustain such a grwoth economically will be impaired. Consequently, the Haredi population will gradually converge towards a lower birth rate. \n",
    "\n",
    "Third, **outmigration can be determined endogenously**. We can imagine a scenario in which the economic and societal changes induced by the growing Haredi population multiplies the odds of leaving the country for other groups. \n",
    "\n",
    "These three scenarios are implemented in the projection functions of the population (*project()*). The functions *dyn_fert()* accommodates trends in fertility by returning the yearly fertility rates for a group given the year and the hypothetized trend. *end_migration()* and *end_fertility()* accommodates changes in emigration (for non-Haredim) and fertility (for Haredim) depending on the share of Haredim in the total population and according to a hypothetized trend. "
   ]
  },
  {
   "cell_type": "code",
   "execution_count": 22,
   "metadata": {
    "colab": {},
    "colab_type": "code",
    "id": "Dhs7GVYKsLN4",
    "scrolled": true
   },
   "outputs": [],
   "source": [
    "def dyn_fert(fx, year, target_fact, trans_time):\n",
    "    \"\"\"\n",
    "    fx: initial age-specific fertility rates\n",
    "    year: the year since onset of transition\n",
    "    target_fact: a factor by which actual fx is multiplied when transition completes.\n",
    "    trans_time: length of transition in years\n",
    "    \"\"\"\n",
    "    d = (1-target_fact)/trans_time\n",
    "    fact = 1-d*year if year <= trans_time else target_fact \n",
    "    return fact*fx\n",
    "\n",
    "def end_migration(ex, p, max_fact, max_p):\n",
    "    \"\"\"\n",
    "    ex: initial age-specific outmigration rates\n",
    "    p: share of Haredim in the total population\n",
    "    max_fact: a maximum factor by which actual ex is multiplied when the Haredim reaches a proportion max_p.\n",
    "    trans\n",
    "    max_p: maximum proportion beyond which the growth of Haredi population does not affect outmigration rates.\n",
    "    \"\"\"\n",
    "    assert max_p > 0.12\n",
    "    d = (max_fact - 1)/(max_p - 0.12)\n",
    "    fact = min(1+d*(p-0.12), max_fact)\n",
    "    return fact*ex\n",
    "    \n",
    "def end_fert(fx, p, target_fact, target_p):\n",
    "    \"\"\"\n",
    "    fx: initial age-specific fertility rates\n",
    "    p: share of Haredim in the total population\n",
    "    max_fact: a maximum factor by which actual fx is multiplied when the Haredim reaches a proportion max_p.\n",
    "    trans\n",
    "    max_p: maximum proportion beyond which the growth of Haredi population does not affect fertility rates.\n",
    "    \"\"\"\n",
    "    d = (1-target_fact)/(target_p - 0.12)\n",
    "    fact = 1-d*(p-0.12)\n",
    "    return fact*fx\n",
    "\n",
    "def project(years, mx, ex, dx, fx, end_fert_model = False):\n",
    "    \"\"\"\n",
    "    years: no. of years to project\n",
    "    mx: matrix of age-specific mortality rates [Jewish male non-Haredim, Jewish female non-Haredim,\n",
    "                                    male Muslims, female Mulsims,\n",
    "                                    male Haredim, female Haredim]\n",
    "    ex: matrix of age-specific emigration rates with the same format\n",
    "    dx: defection rates for Hredim to non-Haredim\n",
    "    fx: matrix of age-specific fertility rate [Jewish non-Haredim, Muslims, Haredim]\n",
    "    end_fert_model: boolean, whether Haredi fertility is endogeneous and depends on their share in the population \n",
    "    \"\"\"\n",
    "    N = np.zeros((600,years))\n",
    "    Nt = N0\n",
    "    for i in range(years):\n",
    "        sums = np.array([Nt[:200].sum(), Nt[200:400].sum(), Nt[400:].sum()])\n",
    "        comp = sums/sums.sum()\n",
    "        ex1 = ex.copy()\n",
    "        fx1 = fx.copy()\n",
    "        ex1[:,0:4] = np.apply_along_axis(end_migration, 0,  ex[:,0:4], comp[2], target_migr_fact, target_prop_migr)\n",
    "        if end_fert_model:\n",
    "            fx1[:,2] = end_fert(fx[:,2], comp[2], target_fert_fact_h, target_prop_fert)\n",
    "            fx1[:,1] = dyn_fert(fx[:,1], i, target_fert_fact_a, trans_time_a)\n",
    "        else:\n",
    "            fx1[:,2] = dyn_fert(fx[:,2], i, target_fert_fact_h, trans_time_h)\n",
    "            fx1[:,1] = dyn_fert(fx[:,1], i, target_fert_fact_a, trans_time_a)\n",
    "        L = Leslie_all(mx, ex1, dx, fx1)\n",
    "        Nt = L@Nt  \n",
    "        Nt += np.concatenate([in_migr*0.9, in_migr*0, in_migr*0.1])\n",
    "        N[:,i] = Nt\n",
    "    n_nh = N[:200,:]\n",
    "    n_a = N[200:400,:]\n",
    "    n_h = N[400:,:]\n",
    "    S = np.column_stack([n_nh.sum(axis = 0), n_a.sum(axis = 0), n_h.sum(axis = 0)])\n",
    "    return N,S"
   ]
  },
  {
   "cell_type": "markdown",
   "metadata": {
    "scrolled": true
   },
   "source": [
    "**Example**\n",
    "\n",
    "We show the projection of the population of our three groups of interest with the following assumptions:\n",
    " - Non-haredi migration is linearly converging towards twice the current rates (`target_migr_fact = 2`) as Haredi share in population progress towards 0.5 (`target_prop_migr = 0.5`)\n",
    " - Haredi fertility is linearly converging towards half the current value (`target_fert_fact_h = 0.5`) within 40 years (`trans_time_h = 40`)\n",
    " - Muslim Arab fertility is linearly converging towards 0.8 the current value (`target_fert_fact_a = 0.8`) within 20 years (`trans_time_a = 40`)\n",
    " - Haredi fertility is not endogenous, i.e. does not depend on their share in the population (`end_fert_model = False`)\n",
    " \n",
    "\n"
   ]
  },
  {
   "cell_type": "code",
   "execution_count": 18,
   "metadata": {
    "colab": {
     "base_uri": "https://localhost:8080/",
     "height": 475
    },
    "colab_type": "code",
    "id": "svwNlkXUsLN6",
    "outputId": "f4a8d0d6-664c-4e6d-d3b7-b6f7019f675b",
    "scrolled": false
   },
   "outputs": [
    {
     "data": {
      "text/plain": [
       "Text(0.5, 1.0, 'Dependency ratio')"
      ]
     },
     "execution_count": 18,
     "metadata": {},
     "output_type": "execute_result"
    },
    {
     "data": {
      "image/png": "[encoded data removed]",
      "text/plain": [
       "<Figure size 1008x504 with 3 Axes>"
      ]
     },
     "metadata": {
      "needs_background": "light"
     },
     "output_type": "display_data"
    }
   ],
   "source": [
    "target_migr_fact = 2; target_prop_migr = 0.5\n",
    "target_fert_fact_h = 0.5; trans_time_h = 40 \n",
    "target_fert_fact_a = 0.8; trans_time_a = 20\n",
    "#target_prop_fert = 0.4\n",
    "dx_ = defection_rate(0.99)\n",
    "\n",
    "\n",
    "N, S = project(100, mx_, ex_, dx_, fx_, end_fert_model = False)\n",
    "\n",
    "fig, ax = plt.subplots(1,3, figsize = (14,7))\n",
    "years = list(range(2018,2118))\n",
    "ax[1].plot(years, S[:,2], label = \"Haredim\")\n",
    "ax[1].plot(years, S[:,0], label = \"Non haredi Jews\")\n",
    "ax[1].plot(years, S[:,1], label = \"Muslim Arabs\")\n",
    "ax[1].legend()\n",
    "ax[1].set_title(\"Population\", color = \"grey\")\n",
    "\n",
    "G = np.apply_along_axis(lambda x : x[1:]/x[:-1], 0, S)-1\n",
    "ax[0].plot(years[1:], G[:,2], label = \"Haredim\")\n",
    "ax[0].plot(years[1:], G[:,0], label = \"Non haredi Jews\")\n",
    "ax[0].plot(years[1:], G[:,1], label = \"Muslim Arabs\")\n",
    "ax[0].legend()\n",
    "ax[0].set_title(\"Growth Rate\", color = \"blue\")\n",
    "\n",
    "prod_ages = np.isin((np.arange(0,600)%100), np.arange(20,65))\n",
    "ax[2].plot(years, N[prod_ages,:].sum(axis = 0)/S.sum(axis = 1))\n",
    "ax[2].set_title(\"Dependency ratio\")"
   ]
  },
  {
   "cell_type": "markdown",
   "metadata": {},
   "source": [
    "**A flexible forecasting model**\n",
    "\n",
    "The interactive tool presented below shows the forecasts depending on various parameters of the model:\n",
    "\n",
    "- Haredi fertility linear decline by a certain factor *Haredi fertility factor* over a certain transition time *Haredi fert. transition time*. \n",
    "- Muslim fertility linear decline by a certain factor *Muslim fertility factor* over a certain transition time *Muslim fert. transition time*. \n",
    "- Endogenous Haredi fertility (check *Endogeneic Haredi fertility*) decline by a certain factor *Haredi fertility factor* as a function of the share of Haredim in the population, reaching its minimum when the proportion equals *Haredi target proportion*.\n",
    "- Endogenous non-Haredi migration multiplication of a certain factor *Haredi fertility factor* as a function of the share of Haredim in the population, reaching its maximum when the proportion equals *Emigration target proportion*.\n",
    "- Defection of Haredi individuals to non-Haredi Jewish group, given by a lifetime probability *Defection probability*.\n",
    "\n",
    "\n",
    "\n"
   ]
  },
  {
   "cell_type": "code",
   "execution_count": 23,
   "metadata": {
    "colab": {
     "base_uri": "https://localhost:8080/",
     "height": 679,
     "referenced_widgets": [
      "0207200ab319478a9e1023df7e6fda37",
      "34787f3d5777489d90b2b5da8da6e2db",
      "5d68e6a9e0034b5299c7b741a1d50a5b",
      "9da0b38fe3f548bdb84bbde9e9c66e4b",
      "cc6615987d3e4a3d810d5a4b6ccc5b81",
      "5ffd49145c744853b5fac9c19e3d8bca",
      "957b45915e9d452b9610f72a1aaf3b1e"
     ]
    },
    "colab_type": "code",
    "id": "qBXCYsuGJ5mF",
    "outputId": "c6f9379d-d389-4f3b-cf1e-dbf3a840f650",
    "scrolled": false
   },
   "outputs": [
    {
     "data": {
      "text/html": [
       "\n",
       "    <div class=\"bk-root\">\n",
       "        <a href=\"https://bokeh.pydata.org\" target=\"_blank\" class=\"bk-logo bk-logo-small bk-logo-notebook\"></a>\n",
       "        <span id=\"1546\">Loading BokehJS ...</span>\n",
       "    </div>"
      ]
     },
     "metadata": {},
     "output_type": "display_data"
    },
    {
     "data": {
      "application/javascript": [
       "\n",
       "(function(root) {\n",
       "  function now() {\n",
       "    return new Date();\n",
       "  }\n",
       "\n",
       "  var force = true;\n",
       "\n",
       "  if (typeof (root._bokeh_onload_callbacks) === \"undefined\" || force === true) {\n",
       "    root._bokeh_onload_callbacks = [];\n",
       "    root._bokeh_is_loading = undefined;\n",
       "  }\n",
       "\n",
       "  var JS_MIME_TYPE = 'application/javascript';\n",
       "  var HTML_MIME_TYPE = 'text/html';\n",
       "  var EXEC_MIME_TYPE = 'application/vnd.bokehjs_exec.v0+json';\n",
       "  var CLASS_NAME = 'output_bokeh rendered_html';\n",
       "\n",
       "  /**\n",
       "   * Render data to the DOM node\n",
       "   */\n",
       "  function render(props, node) {\n",
       "    var script = document.createElement(\"script\");\n",
       "    node.appendChild(script);\n",
       "  }\n",
       "\n",
       "  /**\n",
       "   * Handle when an output is cleared or removed\n",
       "   */\n",
       "  function handleClearOutput(event, handle) {\n",
       "    var cell = handle.cell;\n",
       "\n",
       "    var id = cell.output_area._bokeh_element_id;\n",
       "    var server_id = cell.output_area._bokeh_server_id;\n",
       "    // Clean up Bokeh references\n",
       "    if (id != null && id in Bokeh.index) {\n",
       "      Bokeh.index[id].model.document.clear();\n",
       "      delete Bokeh.index[id];\n",
       "    }\n",
       "\n",
       "    if (server_id !== undefined) {\n",
       "      // Clean up Bokeh references\n",
       "      var cmd = \"from bokeh.io.state import curstate; print(curstate().uuid_to_server['\" + server_id + \"'].get_sessions()[0].document.roots[0]._id)\";\n",
       "      cell.notebook.kernel.execute(cmd, {\n",
       "        iopub: {\n",
       "          output: function(msg) {\n",
       "            var id = msg.content.text.trim();\n",
       "            if (id in Bokeh.index) {\n",
       "              Bokeh.index[id].model.document.clear();\n",
       "              delete Bokeh.index[id];\n",
       "            }\n",
       "          }\n",
       "        }\n",
       "      });\n",
       "      // Destroy server and session\n",
       "      var cmd = \"import bokeh.io.notebook as ion; ion.destroy_server('\" + server_id + \"')\";\n",
       "      cell.notebook.kernel.execute(cmd);\n",
       "    }\n",
       "  }\n",
       "\n",
       "  /**\n",
       "   * Handle when a new output is added\n",
       "   */\n",
       "  function handleAddOutput(event, handle) {\n",
       "    var output_area = handle.output_area;\n",
       "    var output = handle.output;\n",
       "\n",
       "    // limit handleAddOutput to display_data with EXEC_MIME_TYPE content only\n",
       "    if ((output.output_type != \"display_data\") || (!output.data.hasOwnProperty(EXEC_MIME_TYPE))) {\n",
       "      return\n",
       "    }\n",
       "\n",
       "    var toinsert = output_area.element.find(\".\" + CLASS_NAME.split(' ')[0]);\n",
       "\n",
       "    if (output.metadata[EXEC_MIME_TYPE][\"id\"] !== undefined) {\n",
       "      toinsert[toinsert.length - 1].firstChild.textContent = output.data[JS_MIME_TYPE];\n",
       "      // store reference to embed id on output_area\n",
       "      output_area._bokeh_element_id = output.metadata[EXEC_MIME_TYPE][\"id\"];\n",
       "    }\n",
       "    if (output.metadata[EXEC_MIME_TYPE][\"server_id\"] !== undefined) {\n",
       "      var bk_div = document.createElement(\"div\");\n",
       "      bk_div.innerHTML = output.data[HTML_MIME_TYPE];\n",
       "      var script_attrs = bk_div.children[0].attributes;\n",
       "      for (var i = 0; i < script_attrs.length; i++) {\n",
       "        toinsert[toinsert.length - 1].firstChild.setAttribute(script_attrs[i].name, script_attrs[i].value);\n",
       "      }\n",
       "      // store reference to server id on output_area\n",
       "      output_area._bokeh_server_id = output.metadata[EXEC_MIME_TYPE][\"server_id\"];\n",
       "    }\n",
       "  }\n",
       "\n",
       "  function register_renderer(events, OutputArea) {\n",
       "\n",
       "    function append_mime(data, metadata, element) {\n",
       "      // create a DOM node to render to\n",
       "      var toinsert = this.create_output_subarea(\n",
       "        metadata,\n",
       "        CLASS_NAME,\n",
       "        EXEC_MIME_TYPE\n",
       "      );\n",
       "      this.keyboard_manager.register_events(toinsert);\n",
       "      // Render to node\n",
       "      var props = {data: data, metadata: metadata[EXEC_MIME_TYPE]};\n",
       "      render(props, toinsert[toinsert.length - 1]);\n",
       "      element.append(toinsert);\n",
       "      return toinsert\n",
       "    }\n",
       "\n",
       "    /* Handle when an output is cleared or removed */\n",
       "    events.on('clear_output.CodeCell', handleClearOutput);\n",
       "    events.on('delete.Cell', handleClearOutput);\n",
       "\n",
       "    /* Handle when a new output is added */\n",
       "    events.on('output_added.OutputArea', handleAddOutput);\n",
       "\n",
       "    /**\n",
       "     * Register the mime type and append_mime function with output_area\n",
       "     */\n",
       "    OutputArea.prototype.register_mime_type(EXEC_MIME_TYPE, append_mime, {\n",
       "      /* Is output safe? */\n",
       "      safe: true,\n",
       "      /* Index of renderer in `output_area.display_order` */\n",
       "      index: 0\n",
       "    });\n",
       "  }\n",
       "\n",
       "  // register the mime type if in Jupyter Notebook environment and previously unregistered\n",
       "  if (root.Jupyter !== undefined) {\n",
       "    var events = require('base/js/events');\n",
       "    var OutputArea = require('notebook/js/outputarea').OutputArea;\n",
       "\n",
       "    if (OutputArea.prototype.mime_types().indexOf(EXEC_MIME_TYPE) == -1) {\n",
       "      register_renderer(events, OutputArea);\n",
       "    }\n",
       "  }\n",
       "\n",
       "  \n",
       "  if (typeof (root._bokeh_timeout) === \"undefined\" || force === true) {\n",
       "    root._bokeh_timeout = Date.now() + 5000;\n",
       "    root._bokeh_failed_load = false;\n",
       "  }\n",
       "\n",
       "  var NB_LOAD_WARNING = {'data': {'text/html':\n",
       "     \"<div style='background-color: #fdd'>\\n\"+\n",
       "     \"<p>\\n\"+\n",
       "     \"BokehJS does not appear to have successfully loaded. If loading BokehJS from CDN, this \\n\"+\n",
       "     \"may be due to a slow or bad network connection. Possible fixes:\\n\"+\n",
       "     \"</p>\\n\"+\n",
       "     \"<ul>\\n\"+\n",
       "     \"<li>re-rerun `output_notebook()` to attempt to load from CDN again, or</li>\\n\"+\n",
       "     \"<li>use INLINE resources instead, as so:</li>\\n\"+\n",
       "     \"</ul>\\n\"+\n",
       "     \"<code>\\n\"+\n",
       "     \"from bokeh.resources import INLINE\\n\"+\n",
       "     \"output_notebook(resources=INLINE)\\n\"+\n",
       "     \"</code>\\n\"+\n",
       "     \"</div>\"}};\n",
       "\n",
       "  function display_loaded() {\n",
       "    var el = document.getElementById(\"1546\");\n",
       "    if (el != null) {\n",
       "      el.textContent = \"BokehJS is loading...\";\n",
       "    }\n",
       "    if (root.Bokeh !== undefined) {\n",
       "      if (el != null) {\n",
       "        el.textContent = \"BokehJS \" + root.Bokeh.version + \" successfully loaded.\";\n",
       "      }\n",
       "    } else if (Date.now() < root._bokeh_timeout) {\n",
       "      setTimeout(display_loaded, 100)\n",
       "    }\n",
       "  }\n",
       "\n",
       "\n",
       "  function run_callbacks() {\n",
       "    try {\n",
       "      root._bokeh_onload_callbacks.forEach(function(callback) { callback() });\n",
       "    }\n",
       "    finally {\n",
       "      delete root._bokeh_onload_callbacks\n",
       "    }\n",
       "    console.info(\"Bokeh: all callbacks have finished\");\n",
       "  }\n",
       "\n",
       "  function load_libs(js_urls, callback) {\n",
       "    root._bokeh_onload_callbacks.push(callback);\n",
       "    if (root._bokeh_is_loading > 0) {\n",
       "      console.log(\"Bokeh: BokehJS is being loaded, scheduling callback at\", now());\n",
       "      return null;\n",
       "    }\n",
       "    if (js_urls == null || js_urls.length === 0) {\n",
       "      run_callbacks();\n",
       "      return null;\n",
       "    }\n",
       "    console.log(\"Bokeh: BokehJS not loaded, scheduling load and callback at\", now());\n",
       "    root._bokeh_is_loading = js_urls.length;\n",
       "    for (var i = 0; i < js_urls.length; i++) {\n",
       "      var url = js_urls[i];\n",
       "      var s = document.createElement('script');\n",
       "      s.src = url;\n",
       "      s.async = false;\n",
       "      s.onreadystatechange = s.onload = function() {\n",
       "        root._bokeh_is_loading--;\n",
       "        if (root._bokeh_is_loading === 0) {\n",
       "          console.log(\"Bokeh: all BokehJS libraries loaded\");\n",
       "          run_callbacks()\n",
       "        }\n",
       "      };\n",
       "      s.onerror = function() {\n",
       "        console.warn(\"failed to load library \" + url);\n",
       "      };\n",
       "      console.log(\"Bokeh: injecting script tag for BokehJS library: \", url);\n",
       "      document.getElementsByTagName(\"head\")[0].appendChild(s);\n",
       "    }\n",
       "  };var element = document.getElementById(\"1546\");\n",
       "  if (element == null) {\n",
       "    console.log(\"Bokeh: ERROR: autoload.js configured with elementid '1546' but no matching script tag was found. \")\n",
       "    return false;\n",
       "  }\n",
       "\n",
       "  var js_urls = [\"https://cdn.pydata.org/bokeh/release/bokeh-1.0.4.min.js\", \"https://cdn.pydata.org/bokeh/release/bokeh-widgets-1.0.4.min.js\", \"https://cdn.pydata.org/bokeh/release/bokeh-tables-1.0.4.min.js\", \"https://cdn.pydata.org/bokeh/release/bokeh-gl-1.0.4.min.js\"];\n",
       "\n",
       "  var inline_js = [\n",
       "    function(Bokeh) {\n",
       "      Bokeh.set_log_level(\"info\");\n",
       "    },\n",
       "    \n",
       "    function(Bokeh) {\n",
       "      \n",
       "    },\n",
       "    function(Bokeh) {\n",
       "      console.log(\"Bokeh: injecting CSS: https://cdn.pydata.org/bokeh/release/bokeh-1.0.4.min.css\");\n",
       "      Bokeh.embed.inject_css(\"https://cdn.pydata.org/bokeh/release/bokeh-1.0.4.min.css\");\n",
       "      console.log(\"Bokeh: injecting CSS: https://cdn.pydata.org/bokeh/release/bokeh-widgets-1.0.4.min.css\");\n",
       "      Bokeh.embed.inject_css(\"https://cdn.pydata.org/bokeh/release/bokeh-widgets-1.0.4.min.css\");\n",
       "      console.log(\"Bokeh: injecting CSS: https://cdn.pydata.org/bokeh/release/bokeh-tables-1.0.4.min.css\");\n",
       "      Bokeh.embed.inject_css(\"https://cdn.pydata.org/bokeh/release/bokeh-tables-1.0.4.min.css\");\n",
       "    }\n",
       "  ];\n",
       "\n",
       "  function run_inline_js() {\n",
       "    \n",
       "    if ((root.Bokeh !== undefined) || (force === true)) {\n",
       "      for (var i = 0; i < inline_js.length; i++) {\n",
       "        inline_js[i].call(root, root.Bokeh);\n",
       "      }if (force === true) {\n",
       "        display_loaded();\n",
       "      }} else if (Date.now() < root._bokeh_timeout) {\n",
       "      setTimeout(run_inline_js, 100);\n",
       "    } else if (!root._bokeh_failed_load) {\n",
       "      console.log(\"Bokeh: BokehJS failed to load within specified timeout.\");\n",
       "      root._bokeh_failed_load = true;\n",
       "    } else if (force !== true) {\n",
       "      var cell = $(document.getElementById(\"1546\")).parents('.cell').data().cell;\n",
       "      cell.output_area.append_execute_result(NB_LOAD_WARNING)\n",
       "    }\n",
       "\n",
       "  }\n",
       "\n",
       "  if (root._bokeh_is_loading === 0) {\n",
       "    console.log(\"Bokeh: BokehJS loaded, going straight to plotting\");\n",
       "    run_inline_js();\n",
       "  } else {\n",
       "    load_libs(js_urls, function() {\n",
       "      console.log(\"Bokeh: BokehJS plotting callback run at\", now());\n",
       "      run_inline_js();\n",
       "    });\n",
       "  }\n",
       "}(window));"
      ],
      "application/vnd.bokehjs_load.v0+json": "\n(function(root) {\n  function now() {\n    return new Date();\n  }\n\n  var force = true;\n\n  if (typeof (root._bokeh_onload_callbacks) === \"undefined\" || force === true) {\n    root._bokeh_onload_callbacks = [];\n    root._bokeh_is_loading = undefined;\n  }\n\n  \n\n  \n  if (typeof (root._bokeh_timeout) === \"undefined\" || force === true) {\n    root._bokeh_timeout = Date.now() + 5000;\n    root._bokeh_failed_load = false;\n  }\n\n  var NB_LOAD_WARNING = {'data': {'text/html':\n     \"<div style='background-color: #fdd'>\\n\"+\n     \"<p>\\n\"+\n     \"BokehJS does not appear to have successfully loaded. If loading BokehJS from CDN, this \\n\"+\n     \"may be due to a slow or bad network connection. Possible fixes:\\n\"+\n     \"</p>\\n\"+\n     \"<ul>\\n\"+\n     \"<li>re-rerun `output_notebook()` to attempt to load from CDN again, or</li>\\n\"+\n     \"<li>use INLINE resources instead, as so:</li>\\n\"+\n     \"</ul>\\n\"+\n     \"<code>\\n\"+\n     \"from bokeh.resources import INLINE\\n\"+\n     \"output_notebook(resources=INLINE)\\n\"+\n     \"</code>\\n\"+\n     \"</div>\"}};\n\n  function display_loaded() {\n    var el = document.getElementById(\"1546\");\n    if (el != null) {\n      el.textContent = \"BokehJS is loading...\";\n    }\n    if (root.Bokeh !== undefined) {\n      if (el != null) {\n        el.textContent = \"BokehJS \" + root.Bokeh.version + \" successfully loaded.\";\n      }\n    } else if (Date.now() < root._bokeh_timeout) {\n      setTimeout(display_loaded, 100)\n    }\n  }\n\n\n  function run_callbacks() {\n    try {\n      root._bokeh_onload_callbacks.forEach(function(callback) { callback() });\n    }\n    finally {\n      delete root._bokeh_onload_callbacks\n    }\n    console.info(\"Bokeh: all callbacks have finished\");\n  }\n\n  function load_libs(js_urls, callback) {\n    root._bokeh_onload_callbacks.push(callback);\n    if (root._bokeh_is_loading > 0) {\n      console.log(\"Bokeh: BokehJS is being loaded, scheduling callback at\", now());\n      return null;\n    }\n    if (js_urls == null || js_urls.length === 0) {\n      run_callbacks();\n      return null;\n    }\n    console.log(\"Bokeh: BokehJS not loaded, scheduling load and callback at\", now());\n    root._bokeh_is_loading = js_urls.length;\n    for (var i = 0; i < js_urls.length; i++) {\n      var url = js_urls[i];\n      var s = document.createElement('script');\n      s.src = url;\n      s.async = false;\n      s.onreadystatechange = s.onload = function() {\n        root._bokeh_is_loading--;\n        if (root._bokeh_is_loading === 0) {\n          console.log(\"Bokeh: all BokehJS libraries loaded\");\n          run_callbacks()\n        }\n      };\n      s.onerror = function() {\n        console.warn(\"failed to load library \" + url);\n      };\n      console.log(\"Bokeh: injecting script tag for BokehJS library: \", url);\n      document.getElementsByTagName(\"head\")[0].appendChild(s);\n    }\n  };var element = document.getElementById(\"1546\");\n  if (element == null) {\n    console.log(\"Bokeh: ERROR: autoload.js configured with elementid '1546' but no matching script tag was found. \")\n    return false;\n  }\n\n  var js_urls = [\"https://cdn.pydata.org/bokeh/release/bokeh-1.0.4.min.js\", \"https://cdn.pydata.org/bokeh/release/bokeh-widgets-1.0.4.min.js\", \"https://cdn.pydata.org/bokeh/release/bokeh-tables-1.0.4.min.js\", \"https://cdn.pydata.org/bokeh/release/bokeh-gl-1.0.4.min.js\"];\n\n  var inline_js = [\n    function(Bokeh) {\n      Bokeh.set_log_level(\"info\");\n    },\n    \n    function(Bokeh) {\n      \n    },\n    function(Bokeh) {\n      console.log(\"Bokeh: injecting CSS: https://cdn.pydata.org/bokeh/release/bokeh-1.0.4.min.css\");\n      Bokeh.embed.inject_css(\"https://cdn.pydata.org/bokeh/release/bokeh-1.0.4.min.css\");\n      console.log(\"Bokeh: injecting CSS: https://cdn.pydata.org/bokeh/release/bokeh-widgets-1.0.4.min.css\");\n      Bokeh.embed.inject_css(\"https://cdn.pydata.org/bokeh/release/bokeh-widgets-1.0.4.min.css\");\n      console.log(\"Bokeh: injecting CSS: https://cdn.pydata.org/bokeh/release/bokeh-tables-1.0.4.min.css\");\n      Bokeh.embed.inject_css(\"https://cdn.pydata.org/bokeh/release/bokeh-tables-1.0.4.min.css\");\n    }\n  ];\n\n  function run_inline_js() {\n    \n    if ((root.Bokeh !== undefined) || (force === true)) {\n      for (var i = 0; i < inline_js.length; i++) {\n        inline_js[i].call(root, root.Bokeh);\n      }if (force === true) {\n        display_loaded();\n      }} else if (Date.now() < root._bokeh_timeout) {\n      setTimeout(run_inline_js, 100);\n    } else if (!root._bokeh_failed_load) {\n      console.log(\"Bokeh: BokehJS failed to load within specified timeout.\");\n      root._bokeh_failed_load = true;\n    } else if (force !== true) {\n      var cell = $(document.getElementById(\"1546\")).parents('.cell').data().cell;\n      cell.output_area.append_execute_result(NB_LOAD_WARNING)\n    }\n\n  }\n\n  if (root._bokeh_is_loading === 0) {\n    console.log(\"Bokeh: BokehJS loaded, going straight to plotting\");\n    run_inline_js();\n  } else {\n    load_libs(js_urls, function() {\n      console.log(\"Bokeh: BokehJS plotting callback run at\", now());\n      run_inline_js();\n    });\n  }\n}(window));"
     },
     "metadata": {},
     "output_type": "display_data"
    },
    {
     "data": {
      "text/html": [
       "\n",
       "\n",
       "\n",
       "\n",
       "\n",
       "\n",
       "  <div class=\"bk-root\" id=\"2850c028-4eb6-454a-bf37-04dcdaa1adb4\" data-root-id=\"1735\"></div>\n"
      ]
     },
     "metadata": {},
     "output_type": "display_data"
    },
    {
     "data": {
      "application/javascript": [
       "(function(root) {\n",
       "  function embed_document(root) {\n",
       "    \n",
       "  var docs_json = {\"1d70ed09-d8c3-402e-934f-18ac5a04497b\":{\"roots\":{\"references\":[{\"attributes\":{\"children\":[{\"id\":\"1547\",\"subtype\":\"Figure\",\"type\":\"Plot\"},{\"id\":\"1627\",\"subtype\":\"Figure\",\"type\":\"Plot\"}]},\"id\":\"1735\",\"type\":\"Row\"},{\"attributes\":{\"label\":{\"value\":\"non haredi\"},\"renderers\":[{\"id\":\"1613\",\"type\":\"GlyphRenderer\"}]},\"id\":\"1626\",\"type\":\"LegendItem\"},{\"attributes\":{},\"id\":\"1557\",\"type\":\"BasicTicker\"},{\"attributes\":{\"fill_color\":{\"value\":\"black\"},\"x\":{\"field\":\"x\"},\"y\":{\"field\":\"y\"}},\"id\":\"1582\",\"type\":\"Circle\"},{\"attributes\":{\"callback\":null,\"data\":{\"x\":[2018,2019,2020,2021,2022,2023,2024,2025,2026,2027,2028,2029,2030,2031,2032,2033,2034,2035,2036,2037,2038,2039,2040,2041,2042,2043,2044,2045,2046,2047,2048,2049,2050,2051,2052,2053,2054,2055,2056,2057,2058,2059,2060,2061,2062,2063,2064,2065,2066,2067,2068,2069,2070,2071,2072,2073,2074,2075,2076,2077,2078,2079,2080,2081,2082,2083,2084,2085,2086,2087,2088,2089,2090,2091,2092,2093,2094,2095,2096,2097,2098,2099,2100,2101,2102,2103,2104,2105,2106,2107,2108,2109,2110,2111,2112,2113,2114,2115,2116,2117],\"y\":{\"__ndarray__\":\"JyzQUl+w4D9EQTCu/p3gP1LCoP+wjuA/AdjM1AuC4D+e/MRTg3jgP4pFw/Fic+A/LFbq64lw4D8KpY+LvWzgP6wV4VBKa+A/48CY2bht4D8X3q215nLgP+ksvleeeuA/pVrmAwmE4D9gaPeUp43gP6Y2N3V4mOA/twxVhEyj4D8gEX8Tl6vgP6HMPl90suA/zGwuFem24D/OJfStZbrgP+FH+sbXvuA/RvrukFXB4D9MiHS8c8HgP/TqA6Ggv+A/vQ2gOva94D9jWZvotL3gP/MfLQ7/vOA/j1C7UQi74D8IiBi8z7jgP1x+hrogtuA/AiPiXlWy4D80PTTn5q3gP/Z0rxigqeA/1iR2TI+l4D/wNNUAx6HgPwRx4dkNnuA/jHEV/Q2a4D/N8MmpBZbgP/JYcmkjkuA/6WWk/1mO4D9PaCHkxIrgP1AES3Gth+A/iDn2khmF4D/8L7H2hYLgPyErXomGf+A/HLI6K+Z74D8dHlALYnjgP8id/sPOdOA/G3nS5hdx4D93xYD0OG3gP2btpz5KaOA/RU12x91i4D96/Km75F3gP6XvrkGSWOA/cMTCSmNS4D9xlxZIQEvgP/Wg6hLbQuA/PNtvaVA54D/d6E+nfC/gPwuoBn9tJeA/YBtDPRsb4D83KL7i5hDgPzS7RbeVBuA/9WI+dwz53z8KSYQ2zuXfP7spRSg60t8/7+ti0Y2/3z/l2LDx4K3fP+bBB5ZDnd8/jJPxKrSN3z82elBZKX/fPyz5Otudcd8/IlIqmxJl3z+2ks8igFnfPyQqxTPNTt8/PLgRfNVE3z/hUUJwcTvfPyTyR5V/Mt8/qIXaqeYp3z8+c/7OiyHfP02IRX1SGd8/aEtC/BcR3z+ifIhrvAjfP0WszxEnAN8/QIwVUUn33j8HK20kG+7eP+1fQRRd5N4/V2CSDgja3j/YWd7/IM/eP/nmQwi5w94/B8ZowuK33j+lEbnotaveP9LISpVJn94/cEyDPq+S3j9ArEY5AIbeP9Iy3TVYed4/mcEGT9Fs3j8UuM1BhmDePx5PoEiJVN4/vJEsXudI3j8=\",\"dtype\":\"float64\",\"shape\":[100]}},\"selected\":{\"id\":\"1692\",\"type\":\"Selection\"},\"selection_policy\":{\"id\":\"1693\",\"type\":\"UnionRenderers\"}},\"id\":\"1661\",\"type\":\"ColumnDataSource\"},{\"attributes\":{\"axis_label\":\"Pop.(1000s)\",\"formatter\":{\"id\":\"1590\",\"type\":\"BasicTickFormatter\"},\"plot\":{\"id\":\"1547\",\"subtype\":\"Figure\",\"type\":\"Plot\"},\"ticker\":{\"id\":\"1562\",\"type\":\"BasicTicker\"}},\"id\":\"1561\",\"type\":\"LinearAxis\"},{\"attributes\":{\"callback\":null},\"id\":\"1628\",\"type\":\"DataRange1d\"},{\"attributes\":{\"callback\":null,\"end\":0.55,\"start\":0.4},\"id\":\"1630\",\"type\":\"Range1d\"},{\"attributes\":{},\"id\":\"1562\",\"type\":\"BasicTicker\"},{\"attributes\":{\"dimension\":1,\"plot\":{\"id\":\"1547\",\"subtype\":\"Figure\",\"type\":\"Plot\"},\"ticker\":{\"id\":\"1562\",\"type\":\"BasicTicker\"}},\"id\":\"1565\",\"type\":\"Grid\"},{\"attributes\":{},\"id\":\"1632\",\"type\":\"LinearScale\"},{\"attributes\":{},\"id\":\"1634\",\"type\":\"LinearScale\"},{\"attributes\":{\"fill_alpha\":{\"value\":0.1},\"fill_color\":{\"value\":\"#1f77b4\"},\"line_alpha\":{\"value\":0.1},\"line_color\":{\"value\":\"#1f77b4\"},\"x\":{\"field\":\"x\"},\"y\":{\"field\":\"y\"}},\"id\":\"1583\",\"type\":\"Circle\"},{\"attributes\":{\"axis_label\":\"Year\",\"formatter\":{\"id\":\"1668\",\"type\":\"BasicTickFormatter\"},\"plot\":{\"id\":\"1627\",\"subtype\":\"Figure\",\"type\":\"Plot\"},\"ticker\":{\"id\":\"1637\",\"type\":\"BasicTicker\"}},\"id\":\"1636\",\"type\":\"LinearAxis\"},{\"attributes\":{},\"id\":\"1566\",\"type\":\"PanTool\"},{\"attributes\":{},\"id\":\"1567\",\"type\":\"WheelZoomTool\"},{\"attributes\":{},\"id\":\"1637\",\"type\":\"BasicTicker\"},{\"attributes\":{\"plot\":{\"id\":\"1627\",\"subtype\":\"Figure\",\"type\":\"Plot\"},\"ticker\":{\"id\":\"1637\",\"type\":\"BasicTicker\"}},\"id\":\"1640\",\"type\":\"Grid\"},{\"attributes\":{\"overlay\":{\"id\":\"1574\",\"type\":\"BoxAnnotation\"}},\"id\":\"1568\",\"type\":\"BoxZoomTool\"},{\"attributes\":{\"axis_label\":\"age dependency ratio\",\"formatter\":{\"id\":\"1670\",\"type\":\"BasicTickFormatter\"},\"plot\":{\"id\":\"1627\",\"subtype\":\"Figure\",\"type\":\"Plot\"},\"ticker\":{\"id\":\"1642\",\"type\":\"BasicTicker\"}},\"id\":\"1641\",\"type\":\"LinearAxis\"},{\"attributes\":{},\"id\":\"1569\",\"type\":\"SaveTool\"},{\"attributes\":{},\"id\":\"1570\",\"type\":\"ResetTool\"},{\"attributes\":{},\"id\":\"1642\",\"type\":\"BasicTicker\"},{\"attributes\":{\"dimension\":1,\"plot\":{\"id\":\"1627\",\"subtype\":\"Figure\",\"type\":\"Plot\"},\"ticker\":{\"id\":\"1642\",\"type\":\"BasicTicker\"}},\"id\":\"1645\",\"type\":\"Grid\"},{\"attributes\":{},\"id\":\"1571\",\"type\":\"HelpTool\"},{\"attributes\":{\"active_drag\":\"auto\",\"active_inspect\":\"auto\",\"active_multi\":null,\"active_scroll\":\"auto\",\"active_tap\":\"auto\",\"tools\":[{\"id\":\"1566\",\"type\":\"PanTool\"},{\"id\":\"1567\",\"type\":\"WheelZoomTool\"},{\"id\":\"1568\",\"type\":\"BoxZoomTool\"},{\"id\":\"1569\",\"type\":\"SaveTool\"},{\"id\":\"1570\",\"type\":\"ResetTool\"},{\"id\":\"1571\",\"type\":\"HelpTool\"}]},\"id\":\"1572\",\"type\":\"Toolbar\"},{\"attributes\":{\"line_alpha\":0.1,\"line_color\":\"#1f77b4\",\"x\":{\"field\":\"x\"},\"y\":{\"field\":\"y\"}},\"id\":\"1663\",\"type\":\"Line\"},{\"attributes\":{\"data_source\":{\"id\":\"1581\",\"type\":\"ColumnDataSource\"},\"glyph\":{\"id\":\"1582\",\"type\":\"Circle\"},\"hover_glyph\":null,\"muted_glyph\":null,\"nonselection_glyph\":{\"id\":\"1583\",\"type\":\"Circle\"},\"selection_glyph\":null,\"view\":{\"id\":\"1585\",\"type\":\"CDSView\"}},\"id\":\"1584\",\"type\":\"GlyphRenderer\"},{\"attributes\":{\"line_color\":\"#1f77b4\",\"x\":{\"field\":\"x\"},\"y\":{\"field\":\"y\"}},\"id\":\"1662\",\"type\":\"Line\"},{\"attributes\":{\"bottom_units\":\"screen\",\"fill_alpha\":{\"value\":0.5},\"fill_color\":{\"value\":\"lightgrey\"},\"left_units\":\"screen\",\"level\":\"overlay\",\"line_alpha\":{\"value\":1.0},\"line_color\":{\"value\":\"black\"},\"line_dash\":[4,4],\"line_width\":{\"value\":2},\"plot\":null,\"render_mode\":\"css\",\"right_units\":\"screen\",\"top_units\":\"screen\"},\"id\":\"1574\",\"type\":\"BoxAnnotation\"},{\"attributes\":{\"callback\":null,\"end\":0.05,\"start\":-0.02},\"id\":\"1675\",\"type\":\"Range1d\"},{\"attributes\":{\"source\":{\"id\":\"1581\",\"type\":\"ColumnDataSource\"}},\"id\":\"1585\",\"type\":\"CDSView\"},{\"attributes\":{},\"id\":\"1646\",\"type\":\"PanTool\"},{\"attributes\":{},\"id\":\"1647\",\"type\":\"WheelZoomTool\"},{\"attributes\":{},\"id\":\"1588\",\"type\":\"BasicTickFormatter\"},{\"attributes\":{\"axis_label\":\"Year\",\"formatter\":{\"id\":\"1588\",\"type\":\"BasicTickFormatter\"},\"plot\":{\"id\":\"1547\",\"subtype\":\"Figure\",\"type\":\"Plot\"},\"ticker\":{\"id\":\"1557\",\"type\":\"BasicTicker\"}},\"id\":\"1556\",\"type\":\"LinearAxis\"},{\"attributes\":{\"overlay\":{\"id\":\"1654\",\"type\":\"BoxAnnotation\"}},\"id\":\"1648\",\"type\":\"BoxZoomTool\"},{\"attributes\":{},\"id\":\"1590\",\"type\":\"BasicTickFormatter\"},{\"attributes\":{},\"id\":\"1649\",\"type\":\"SaveTool\"},{\"attributes\":{\"background_fill_alpha\":{\"value\":0.2},\"items\":[{\"id\":\"1594\",\"type\":\"LegendItem\"},{\"id\":\"1609\",\"type\":\"LegendItem\"},{\"id\":\"1626\",\"type\":\"LegendItem\"}],\"location\":\"top_left\",\"plot\":{\"id\":\"1547\",\"subtype\":\"Figure\",\"type\":\"Plot\"}},\"id\":\"1593\",\"type\":\"Legend\"},{\"attributes\":{},\"id\":\"1554\",\"type\":\"LinearScale\"},{\"attributes\":{},\"id\":\"1650\",\"type\":\"ResetTool\"},{\"attributes\":{\"label\":{\"value\":\"haredi\"},\"renderers\":[{\"id\":\"1584\",\"type\":\"GlyphRenderer\"}]},\"id\":\"1594\",\"type\":\"LegendItem\"},{\"attributes\":{},\"id\":\"1651\",\"type\":\"HelpTool\"},{\"attributes\":{\"below\":[{\"id\":\"1556\",\"type\":\"LinearAxis\"}],\"left\":[{\"id\":\"1561\",\"type\":\"LinearAxis\"}],\"plot_height\":300,\"plot_width\":450,\"renderers\":[{\"id\":\"1556\",\"type\":\"LinearAxis\"},{\"id\":\"1560\",\"type\":\"Grid\"},{\"id\":\"1561\",\"type\":\"LinearAxis\"},{\"id\":\"1565\",\"type\":\"Grid\"},{\"id\":\"1574\",\"type\":\"BoxAnnotation\"},{\"id\":\"1593\",\"type\":\"Legend\"},{\"id\":\"1584\",\"type\":\"GlyphRenderer\"},{\"id\":\"1598\",\"type\":\"GlyphRenderer\"},{\"id\":\"1613\",\"type\":\"GlyphRenderer\"}],\"title\":{\"id\":\"1586\",\"type\":\"Title\"},\"toolbar\":{\"id\":\"1572\",\"type\":\"Toolbar\"},\"x_range\":{\"id\":\"1548\",\"type\":\"DataRange1d\"},\"x_scale\":{\"id\":\"1552\",\"type\":\"LinearScale\"},\"y_range\":{\"id\":\"1550\",\"type\":\"DataRange1d\"},\"y_scale\":{\"id\":\"1554\",\"type\":\"LinearScale\"}},\"id\":\"1547\",\"subtype\":\"Figure\",\"type\":\"Plot\"},{\"attributes\":{\"callback\":null,\"data\":{\"x\":[2018,2019,2020,2021,2022,2023,2024,2025,2026,2027,2028,2029,2030,2031,2032,2033,2034,2035,2036,2037,2038,2039,2040,2041,2042,2043,2044,2045,2046,2047,2048,2049,2050,2051,2052,2053,2054,2055,2056,2057,2058,2059,2060,2061,2062,2063,2064,2065,2066,2067,2068,2069,2070,2071,2072,2073,2074,2075,2076,2077,2078,2079,2080,2081,2082,2083,2084,2085,2086,2087,2088,2089,2090,2091,2092,2093,2094,2095,2096,2097,2098,2099,2100,2101,2102,2103,2104,2105,2106,2107,2108,2109,2110,2111,2112,2113,2114,2115,2116,2117],\"y\":{\"__ndarray__\":\"77C1xWqTtUDGzz8O3hq2QLn4hpzcn7ZARsKOvFsit0Drya+udaK3QM3ffVkNILhA6DyNzC2buEBQnQJDGhS5QJHP9TjyirlAj35Lfuj/uUAWYu1FQ3O6QKaoYZlr5bpAVG7HLrFWu0C+zdTgJse7QDHLxsbeNrxAJ3pVtBGlvEA29zjRZRO9QPana2v4gb1AIQIb4sbwvUD3cttqyF++QCP0GLghz75AzKBZOgk/v0DJV6t+lq+/QHCM4UlhEMBA3zXkPkNJwEDMPypPbILAQHCww6bGu8BAxIXT8Dv1wEBO9H5etS7BQKH5yJk1aMFA8hvGpd+hwUDCavcMq9vBQME0cuhlFcJAToxCRAFPwkDHPkfziIjCQOl65gr/wcJA1Xrhrlf7wkADiPehgzTDQOI/Urx9bcNAgrK0FVmmw0B2ZahNJN/DQKBPbyLjF8RAqdMEbJhQxECiJ6UKVInEQOM2/E4vwsRA2TLI3EL7xEAz3DAgnjTFQMH5hmZHbsVAzdaLG0uoxUDrWo2kwuLFQME75uu5HcZAs6GYOzRZxkDwQDhoN5XGQI/jgMzD0cZAFWhvvuYOx0Bkq7X8oUzHQP7dMvDmisdASV+mf6zJx0ACGYxm7wjIQKdITMuySMhAMhhNu/CIyEDu2wkcj8nIQGZAagOBCslA8lQoBclLyUD54/FeYI3JQJBJeeM3z8lAx4aVtkoRykDwX86ZnFPKQC8M71YylspAuxQymxHZykAul7o8NxzLQFqtoJGhX8tAXPLYAlyjy0C2czgTd+fLQJAzrGMALMxA5pI7CgJxzEDVsCe1hbbMQLM25omb/MxARoxAOlVDzUATWsR1worNQKLL0PTy0s1AtbA/FPkbzkCyc5Ki4WXOQE4i3lS+sM5AOL4M3Z78zkCsO9kZhUnPQPG2sBp+l89ABKXEUpvmz0BRKIoebxvQQNzQK1klRNBAoK606HFt0EA/H50TVZfQQGygsafQwdBA26ZPYOjs0ECGq93ImxjRQAdJ71rpRNFAUPaQytFx0UAZhqaoVJ/RQD/GNq10zdFAUTppbzP80UA=\",\"dtype\":\"float64\",\"shape\":[100]}},\"selected\":{\"id\":\"1785\",\"type\":\"Selection\"},\"selection_policy\":{\"id\":\"1786\",\"type\":\"UnionRenderers\"}},\"id\":\"1610\",\"type\":\"ColumnDataSource\"},{\"attributes\":{\"active_drag\":\"auto\",\"active_inspect\":\"auto\",\"active_multi\":null,\"active_scroll\":\"auto\",\"active_tap\":\"auto\",\"tools\":[{\"id\":\"1646\",\"type\":\"PanTool\"},{\"id\":\"1647\",\"type\":\"WheelZoomTool\"},{\"id\":\"1648\",\"type\":\"BoxZoomTool\"},{\"id\":\"1649\",\"type\":\"SaveTool\"},{\"id\":\"1650\",\"type\":\"ResetTool\"},{\"id\":\"1651\",\"type\":\"HelpTool\"}]},\"id\":\"1652\",\"type\":\"Toolbar\"},{\"attributes\":{\"data_source\":{\"id\":\"1661\",\"type\":\"ColumnDataSource\"},\"glyph\":{\"id\":\"1662\",\"type\":\"Line\"},\"hover_glyph\":null,\"muted_glyph\":null,\"nonselection_glyph\":{\"id\":\"1663\",\"type\":\"Line\"},\"selection_glyph\":null,\"view\":{\"id\":\"1665\",\"type\":\"CDSView\"}},\"id\":\"1664\",\"type\":\"GlyphRenderer\"},{\"attributes\":{\"fill_color\":{\"value\":\"green\"},\"line_color\":{\"value\":\"green\"},\"x\":{\"field\":\"x\"},\"y\":{\"field\":\"y\"}},\"id\":\"1596\",\"type\":\"Circle\"},{\"attributes\":{\"bottom_units\":\"screen\",\"fill_alpha\":{\"value\":0.5},\"fill_color\":{\"value\":\"lightgrey\"},\"left_units\":\"screen\",\"level\":\"overlay\",\"line_alpha\":{\"value\":1.0},\"line_color\":{\"value\":\"black\"},\"line_dash\":[4,4],\"line_width\":{\"value\":2},\"plot\":null,\"render_mode\":\"css\",\"right_units\":\"screen\",\"top_units\":\"screen\"},\"id\":\"1654\",\"type\":\"BoxAnnotation\"},{\"attributes\":{\"fill_alpha\":{\"value\":0.1},\"fill_color\":{\"value\":\"#1f77b4\"},\"line_alpha\":{\"value\":0.1},\"line_color\":{\"value\":\"#1f77b4\"},\"x\":{\"field\":\"x\"},\"y\":{\"field\":\"y\"}},\"id\":\"1597\",\"type\":\"Circle\"},{\"attributes\":{\"callback\":null,\"data\":{\"x\":[2018,2019,2020,2021,2022,2023,2024,2025,2026,2027,2028,2029,2030,2031,2032,2033,2034,2035,2036,2037,2038,2039,2040,2041,2042,2043,2044,2045,2046,2047,2048,2049,2050,2051,2052,2053,2054,2055,2056,2057,2058,2059,2060,2061,2062,2063,2064,2065,2066,2067,2068,2069,2070,2071,2072,2073,2074,2075,2076,2077,2078,2079,2080,2081,2082,2083,2084,2085,2086,2087,2088,2089,2090,2091,2092,2093,2094,2095,2096,2097,2098,2099,2100,2101,2102,2103,2104,2105,2106,2107,2108,2109,2110,2111,2112,2113,2114,2115,2116,2117],\"y\":{\"__ndarray__\":\"NBverAWbmEAi5ol0vC2ZQMHXH+H1wplAxIhm5LtamkA9FC1OCfWaQEVlQ8mlkZtA9R+tyS4wnEDh0UCRB9CcQCiV+tiYcJ1Afl/AB4QRnkAB4SYxZrKeQEiCnJraUp9ATMsHKIXyn0Dn8WmpeEigQBShHwvflqBAJ4O9RCXkoEBS42J6UDChQN7SZA9Re6FAKJHaohzFoUDySaRapw2iQMKA824BVaJAPM6k3WycokBY8I2y8eOiQGMyRQ2iK6NAssLljZJzo0CCFoWN37ujQFN7FVqtBKRAvTwg1wtOpEAt4EKvDZikQHGXBtbF4qRA+lgFyz4upUCNOY1sb3qlQK8D0iExx6VA+ORF3nMUpkA7CE/2RGKmQIFqcPKAsKZAMI3HAwX/pkDAsWA5sE2nQLrAr3RnnKdAtIK/ahLrp0BOHYqshjmoQJRuMDmnh6hAoty7/WPVqEDT6z2guiKpQAQ2qKCqb6lAxcPSIyu8qUBCDzWWOgiqQFQirBXlU6pAOtO160afqkD7OqGjeOqqQOp67RiHNatAN2ysGXiAq0D3A//rXcurQFYjcxZPFqxAn7wsImVhrEBI11qWraysQH9hqjEz+KxAeyhXlf5DrUBTFKHJE5CtQC2l4piC3K1AdaE1UE4prkDN82DocnauQLVRFPbyw65AG+CO+MkRr0BudaJC51+vQIlx+1VCrq9AblFsB9n8r0BCZPyb1yWwQKRdLE5gTbBAiR9f+/50sEC7egp7sJywQBKWrtRzxLBAXAOgWU7ssECUcIj1RRSxQLf++QxiPLFArqpTo6ZksUDqdlbPGY2xQKNcnuC/tbFAzxjpQZresUDYqBIBtAeyQPDLIfkLMbJAxG7lx6laskB/Rwz5k4SyQPBORRrPrrJAUj3/rGTZskB9pAM7WgSzQG2wfCm6L7NAWfgS34pbs0CxrynixoezQAOCGYtstLNA6IMB9Xzhs0CYAcl58w60QChEDjPQPLRAieZERRtrtEC/nwDp15m0QHihnWgKybRAMKVpKLD4tEB7hM4FwSi1QNaWDFE+WbVABvy6uSqKtUA=\",\"dtype\":\"float64\",\"shape\":[100]}},\"selected\":{\"id\":\"1624\",\"type\":\"Selection\"},\"selection_policy\":{\"id\":\"1625\",\"type\":\"UnionRenderers\"}},\"id\":\"1595\",\"type\":\"ColumnDataSource\"},{\"attributes\":{\"data_source\":{\"id\":\"1595\",\"type\":\"ColumnDataSource\"},\"glyph\":{\"id\":\"1596\",\"type\":\"Circle\"},\"hover_glyph\":null,\"muted_glyph\":null,\"nonselection_glyph\":{\"id\":\"1597\",\"type\":\"Circle\"},\"selection_glyph\":null,\"view\":{\"id\":\"1599\",\"type\":\"CDSView\"}},\"id\":\"1598\",\"type\":\"GlyphRenderer\"},{\"attributes\":{\"source\":{\"id\":\"1661\",\"type\":\"ColumnDataSource\"}},\"id\":\"1665\",\"type\":\"CDSView\"},{\"attributes\":{\"plot\":{\"id\":\"1547\",\"subtype\":\"Figure\",\"type\":\"Plot\"},\"ticker\":{\"id\":\"1557\",\"type\":\"BasicTicker\"}},\"id\":\"1560\",\"type\":\"Grid\"},{\"attributes\":{\"plot\":null,\"text\":\"\"},\"id\":\"1666\",\"type\":\"Title\"},{\"attributes\":{\"source\":{\"id\":\"1595\",\"type\":\"ColumnDataSource\"}},\"id\":\"1599\",\"type\":\"CDSView\"},{\"attributes\":{\"callback\":null},\"id\":\"1548\",\"type\":\"DataRange1d\"},{\"attributes\":{},\"id\":\"1668\",\"type\":\"BasicTickFormatter\"},{\"attributes\":{},\"id\":\"1607\",\"type\":\"Selection\"},{\"attributes\":{},\"id\":\"1552\",\"type\":\"LinearScale\"},{\"attributes\":{},\"id\":\"1670\",\"type\":\"BasicTickFormatter\"},{\"attributes\":{},\"id\":\"1608\",\"type\":\"UnionRenderers\"},{\"attributes\":{\"callback\":null},\"id\":\"1550\",\"type\":\"DataRange1d\"},{\"attributes\":{\"background_fill_alpha\":{\"value\":0.2},\"items\":[{\"id\":\"1674\",\"type\":\"LegendItem\"},{\"id\":\"1694\",\"type\":\"LegendItem\"},{\"id\":\"1713\",\"type\":\"LegendItem\"},{\"id\":\"1734\",\"type\":\"LegendItem\"}],\"location\":\"bottom_left\",\"orientation\":\"horizontal\",\"plot\":{\"id\":\"1627\",\"subtype\":\"Figure\",\"type\":\"Plot\"}},\"id\":\"1673\",\"type\":\"Legend\"},{\"attributes\":{\"label\":{\"value\":\"muslim\"},\"renderers\":[{\"id\":\"1598\",\"type\":\"GlyphRenderer\"}]},\"id\":\"1609\",\"type\":\"LegendItem\"},{\"attributes\":{\"below\":[{\"id\":\"1636\",\"type\":\"LinearAxis\"}],\"extra_x_ranges\":{\"growth\":{\"id\":\"1676\",\"type\":\"Range1d\"}},\"extra_y_ranges\":{\"growth\":{\"id\":\"1675\",\"type\":\"Range1d\"}},\"left\":[{\"id\":\"1641\",\"type\":\"LinearAxis\"}],\"plot_height\":300,\"plot_width\":450,\"renderers\":[{\"id\":\"1636\",\"type\":\"LinearAxis\"},{\"id\":\"1640\",\"type\":\"Grid\"},{\"id\":\"1641\",\"type\":\"LinearAxis\"},{\"id\":\"1645\",\"type\":\"Grid\"},{\"id\":\"1654\",\"type\":\"BoxAnnotation\"},{\"id\":\"1673\",\"type\":\"Legend\"},{\"id\":\"1664\",\"type\":\"GlyphRenderer\"},{\"id\":\"1677\",\"type\":\"LinearAxis\"},{\"id\":\"1681\",\"type\":\"GlyphRenderer\"},{\"id\":\"1698\",\"type\":\"GlyphRenderer\"},{\"id\":\"1717\",\"type\":\"GlyphRenderer\"}],\"right\":[{\"id\":\"1677\",\"type\":\"LinearAxis\"}],\"title\":{\"id\":\"1666\",\"type\":\"Title\"},\"toolbar\":{\"id\":\"1652\",\"type\":\"Toolbar\"},\"x_range\":{\"id\":\"1628\",\"type\":\"DataRange1d\"},\"x_scale\":{\"id\":\"1632\",\"type\":\"LinearScale\"},\"y_range\":{\"id\":\"1630\",\"type\":\"Range1d\"},\"y_scale\":{\"id\":\"1634\",\"type\":\"LinearScale\"}},\"id\":\"1627\",\"subtype\":\"Figure\",\"type\":\"Plot\"},{\"attributes\":{\"label\":{\"value\":\"ratio\"},\"renderers\":[{\"id\":\"1664\",\"type\":\"GlyphRenderer\"}]},\"id\":\"1674\",\"type\":\"LegendItem\"},{\"attributes\":{\"callback\":null,\"data\":{\"x\":[2018,2019,2020,2021,2022,2023,2024,2025,2026,2027,2028,2029,2030,2031,2032,2033,2034,2035,2036,2037,2038,2039,2040,2041,2042,2043,2044,2045,2046,2047,2048,2049,2050,2051,2052,2053,2054,2055,2056,2057,2058,2059,2060,2061,2062,2063,2064,2065,2066,2067,2068,2069,2070,2071,2072,2073,2074,2075,2076,2077,2078,2079,2080,2081,2082,2083,2084,2085,2086,2087,2088,2089,2090,2091,2092,2093,2094,2095,2096,2097,2098,2099,2100,2101,2102,2103,2104,2105,2106,2107,2108,2109,2110,2111,2112,2113,2114,2115,2116,2117],\"y\":{\"__ndarray__\":\"FbuJONxVkEAoDCmZIxGRQJXgq77b0ZFAhzvUrxiYkkCaysFt9mOTQKBiwuaNNZRAYnrhJvIMlUBgxJzvNuqVQNqeMTt7zZZAtdAFAuS2l0AI+iCXlKaYQPNkBTesnJlA8g0DaUuZmkCymJOknJybQNM2fIHRppxABBR1UB24nUAUoCYFtNCeQCPOzt/N8J9AGTz+uFWMoEBylASFTiShQI7uZvyAwKFA96aokh9hokBVA3wqXQajQLtPfsJlsKNAL3KkvmNfpEBoCPEohhOlQAgj42L/zKVAt6Zk1f6LpkB6bHCkqVCnQNQulOweG6hAfJareH3rqEDt8cjT4sGpQOjmSBxrnqpAUmSijjGBq0BVpqIbUWqsQOWD04vkWa1A7xHT6QVQrkAo7U9LzkyvQLa/6Q8rKLBArsQOzVqtsEAllUcbAzaxQD+fRy7hwrFAXh2I1Q9UskCVTXEpq+myQN/ajTHQg7NAWNHirJ0itEDIUwssNca0QPko1wa7brVA0JR8Z1UctkD8SsjkK8+2QFa6vqJnh7dAgsAafDNFuEBqfEX0uwi5QFy9S7su0rlAQN1vbbqhukCEJYm8jne7QG4CePHdU7xAwv8cAt02vUDRACZCwSC+QGWTj6i9Eb9AMyr72AEFwEC3CeEi5YTAQELEiNymCMFADUmRTmWQwUDCRloRPxzCQIdIczVTrMJA7tX2ncJAw0C5MLwisNnDQM0uRGY+d8RA5N8pjJAZxUBj7uLCysDFQH9aR5ATbcZAxzvio5Mex0D6dNZzdNXHQA9qXuXgkchAnwjdvQVUyUAT29pwEhzKQH/QUUI56spAX656uK6+y0BNxKTMqZnMQEd67tVje81ALlBkBBZkzkBu8jlj+FPPQArdFKKiJdBAqQOoUx2l0EDJsTBjjCjRQLEm5bUPsNFAai8U/cY70kAfh5f70svSQDwWbn1VYNNA94inRHH500AaxRhBSpfUQEumn6UFOtVAzNm6yMnh1UCmw38nvo7WQFzyqnALQddAGzYan9v410CssJP8WbbYQNE3mjezedlAT9C+fhVD2kA=\",\"dtype\":\"float64\",\"shape\":[100]}},\"selected\":{\"id\":\"1607\",\"type\":\"Selection\"},\"selection_policy\":{\"id\":\"1608\",\"type\":\"UnionRenderers\"}},\"id\":\"1581\",\"type\":\"ColumnDataSource\"},{\"attributes\":{\"fill_color\":{\"value\":\"blue\"},\"line_color\":{\"value\":\"blue\"},\"x\":{\"field\":\"x\"},\"y\":{\"field\":\"y\"}},\"id\":\"1611\",\"type\":\"Circle\"},{\"attributes\":{\"callback\":null,\"end\":2117,\"start\":2018},\"id\":\"1676\",\"type\":\"Range1d\"},{\"attributes\":{\"fill_alpha\":{\"value\":0.1},\"fill_color\":{\"value\":\"#1f77b4\"},\"line_alpha\":{\"value\":0.1},\"line_color\":{\"value\":\"#1f77b4\"},\"x\":{\"field\":\"x\"},\"y\":{\"field\":\"y\"}},\"id\":\"1612\",\"type\":\"Circle\"},{\"attributes\":{\"axis_label\":\"Growth\",\"formatter\":{\"id\":\"1685\",\"type\":\"BasicTickFormatter\"},\"plot\":{\"id\":\"1627\",\"subtype\":\"Figure\",\"type\":\"Plot\"},\"ticker\":{\"id\":\"1686\",\"type\":\"BasicTicker\"},\"y_range_name\":\"growth\"},\"id\":\"1677\",\"type\":\"LinearAxis\"},{\"attributes\":{\"data_source\":{\"id\":\"1610\",\"type\":\"ColumnDataSource\"},\"glyph\":{\"id\":\"1611\",\"type\":\"Circle\"},\"hover_glyph\":null,\"muted_glyph\":null,\"nonselection_glyph\":{\"id\":\"1612\",\"type\":\"Circle\"},\"selection_glyph\":null,\"view\":{\"id\":\"1614\",\"type\":\"CDSView\"}},\"id\":\"1613\",\"type\":\"GlyphRenderer\"},{\"attributes\":{\"callback\":null,\"data\":{\"x\":[2019,2020,2021,2022,2023,2024,2025,2026,2027,2028,2029,2030,2031,2032,2033,2034,2035,2036,2037,2038,2039,2040,2041,2042,2043,2044,2045,2046,2047,2048,2049,2050,2051,2052,2053,2054,2055,2056,2057,2058,2059,2060,2061,2062,2063,2064,2065,2066,2067,2068,2069,2070,2071,2072,2073,2074,2075,2076,2077,2078,2079,2080,2081,2082,2083,2084,2085,2086,2087,2088,2089,2090,2091,2092,2093,2094,2095,2096,2097,2098,2099,2100,2101,2102,2103,2104,2105,2106,2107,2108,2109,2110,2111,2112,2113,2114,2115,2116,2117],\"y\":{\"__ndarray__\":\"gDcfbokcmT8A/nJz5BCYP4A5/n5fEpc/ABiRHDUmlj/A+uybdEGVP4C0U/YkapQ/AORmO0+okz/An1Ryl/SSPwDOs932UJI/QCs/c0K/kT8AILpOhEORP0CJiZiF2JA/wMc35k50kD8ACP6aXBaQPwB3z48IP48/ANSoNhjQjj8AH4k9XmyOPwAZJwCYCo4/ANx8VQ+pjT8Aoe1fx1ONP4AoFSq2Do0/AFqm0BXRjD+AYYaJ0pKMPwDLIUf6U4w/gFDvCfcTjD8A6ORMocqLP4Cs3XBCeIs/gGW/GCMdiz+ATMhFnMWKP4D+xmNkgIo/gCp8Pts4ij8AB6fClNyJPwCre/oVfIk/AFR0hU0jiT8AsFuNrc2IP4DqddMidYg/gOEwXmkYiD8ADaMZ67uHPwAbNuClaYc/AGbw/1Ufhz8A3w6uQ9iGPwDmmeHyk4Y/gJJut2pXhj+Ap/yWBiaGPwDK4NwN/4U/AD12Io/ehT+AaVZy1sCFP4DppxIRqIU/gIflFdeYhT+AQZXY1o2FPwD3kRnFg4U/AEQ93oB7hT+AsiFTBnOFPwBdTnjkboU/gD+GdedqhT8AusL/cGGFPwB7w9CXVIU/AGYchXVGhT8AzTLNOjmFPwBw82LfKYU/AKaTcucRhT+A1cAb7/WEP4BRwFYU24Q/gFxim1m+hD+AR5guMZ2EPwDqdbf8eoQ/AD7o1m1ahD+AZlhtxjuEP4Cs1OQ5H4Q/gCHX2BIChD+AAKdNyuSDP4BGh3A1y4M/gM68xKu2gz+AnmASKqaDPwAGJ8OImIM/AGRYio+Ngz8AkOZh8oaDP4ABysf0hIM/AFm8Pd2Ggz8AwcOlh4yDP4A0xbyDloM/gM9Iyiujgz8AR2BirbODP4DnIZRZx4M/ADY70Xvagz8AgVd18e+DP4B53Lm7CIQ/gNxDc7MghD8Am+SicTiEPwC4HVTFT4Q/gHUvAg1mhD+AOkF7CnyEPwBFLgankoQ/AKOyVtynhD8Au08vM7uEPwBcctHBzYQ/AFYA6QXfhD8A3897dvCEP4D4xmmLAYU/\",\"dtype\":\"float64\",\"shape\":[99]}},\"selected\":{\"id\":\"1711\",\"type\":\"Selection\"},\"selection_policy\":{\"id\":\"1712\",\"type\":\"UnionRenderers\"}},\"id\":\"1678\",\"type\":\"ColumnDataSource\"},{\"attributes\":{\"source\":{\"id\":\"1610\",\"type\":\"ColumnDataSource\"}},\"id\":\"1614\",\"type\":\"CDSView\"},{\"attributes\":{\"callback\":null,\"data\":{\"x\":[2019,2020,2021,2022,2023,2024,2025,2026,2027,2028,2029,2030,2031,2032,2033,2034,2035,2036,2037,2038,2039,2040,2041,2042,2043,2044,2045,2046,2047,2048,2049,2050,2051,2052,2053,2054,2055,2056,2057,2058,2059,2060,2061,2062,2063,2064,2065,2066,2067,2068,2069,2070,2071,2072,2073,2074,2075,2076,2077,2078,2079,2080,2081,2082,2083,2084,2085,2086,2087,2088,2089,2090,2091,2092,2093,2094,2095,2096,2097,2098,2099,2100,2101,2102,2103,2104,2105,2106,2107,2108,2109,2110,2111,2112,2113,2114,2115,2116,2117],\"y\":{\"__ndarray__\":\"gHTsZr3Zlz+AyUav27SXP8AOw43dkJc/gLqFX2lrlz8ANQUkED2XP4BEpgmDAJc/QOWf9squlj/AOx8nkUqWP0DQeRU03ZU/wFFaCP5mlT9AQkFZheiUP4Ac4TCkY5Q/gCXxYeDVkz+AbESPXEKTP0Bg3zDdoZI/AP5hi5oJkj+ATD4LLnSRPwC8I+SX4pA/AMc/dD9UkD+AvvEURp6PPwAqRj7IKo8/ABd7vhi+jj+AUaYlI1yOP4ApEtdfBY4/gLU24GK8jT8A2XK8p4ONP4DlpXIjUo0/AP/ob40ojT8A2o1hlgaNPwDCPkaZ6Iw/gMu5tfbGjD8AwLdC65aMPwDrSoiNYYw/gBjyltIxjD+A4lUAAvaLP4BEtTcDr4s/AEbf5Rteiz8AvmD22AWLPwAuw3OZp4o/gPsEZKI9ij+ALd7gAc2JP4B3GFFKWok/gGNKuAbqiD8ADtg3tHyIPwBTu4iSD4g/gI4pUeakhz+AarMxy0CHPwDLlY7i54Y/gLl0B5GYhj+AcV7v9U6GPwCnCCTDCIY/AEKFonfJhT8Ac83jBZKFPwCBbC35YoU/ABwanJk4hT8ABsJc8hGFPwBz6e9J7oQ/gA4bJULMhD+A7bEn+66EP4AN9wnukoQ/gBISiR52hD+AGjJuUlqEPwA8qMqpPYQ/gNzJhwwdhD+AMBjqufqDPwBKpKhd2IM/gBjsWX23gz8A9q46BpaDPwC0S0BQcYM/gHe51KdLgz+ApOGrJSaDPwBni2HKA4M/gJMjMMPkgj+AfqZRo8mCP4Bw3Y22sII/gPspaN6agj8AD0lgMIeCPwDihRNLdII/AL/Z1Hhmgj8AAKe/IliCPwAdGlkoTYI/gJ/ETvREgj+AoyGBkT6CPwA5wGsOPII/gD+64pg7gj+AtnThKD+CP4DYne/uRII/gBIyTO1Hgj8APkQwzEmCPwDjmIizS4I/gDtPJ1FLgj+AcNKZnUqCP4AyfdTITII/AKqsccpPgj+AV9UPBFSCP4D25qvBVoI/gI38p/NVgj8A/UKXS1WCPwBN9wpLVYI/\",\"dtype\":\"float64\",\"shape\":[99]}},\"selected\":{\"id\":\"1732\",\"type\":\"Selection\"},\"selection_policy\":{\"id\":\"1733\",\"type\":\"UnionRenderers\"}},\"id\":\"1695\",\"type\":\"ColumnDataSource\"},{\"attributes\":{\"plot\":null,\"text\":\"\"},\"id\":\"1586\",\"type\":\"Title\"},{\"attributes\":{\"fill_color\":{\"value\":\"blue\"},\"line_color\":{\"value\":\"blue\"},\"x\":{\"field\":\"x\"},\"y\":{\"field\":\"y\"}},\"id\":\"1679\",\"type\":\"Circle\"},{\"attributes\":{},\"id\":\"1624\",\"type\":\"Selection\"},{\"attributes\":{\"fill_alpha\":{\"value\":0.1},\"fill_color\":{\"value\":\"#1f77b4\"},\"line_alpha\":{\"value\":0.1},\"line_color\":{\"value\":\"#1f77b4\"},\"x\":{\"field\":\"x\"},\"y\":{\"field\":\"y\"}},\"id\":\"1680\",\"type\":\"Circle\"},{\"attributes\":{},\"id\":\"1625\",\"type\":\"UnionRenderers\"},{\"attributes\":{\"data_source\":{\"id\":\"1678\",\"type\":\"ColumnDataSource\"},\"glyph\":{\"id\":\"1679\",\"type\":\"Circle\"},\"hover_glyph\":null,\"muted_glyph\":null,\"nonselection_glyph\":{\"id\":\"1680\",\"type\":\"Circle\"},\"selection_glyph\":null,\"view\":{\"id\":\"1682\",\"type\":\"CDSView\"},\"x_range_name\":\"growth\",\"y_range_name\":\"growth\"},\"id\":\"1681\",\"type\":\"GlyphRenderer\"},{\"attributes\":{\"source\":{\"id\":\"1678\",\"type\":\"ColumnDataSource\"}},\"id\":\"1682\",\"type\":\"CDSView\"},{\"attributes\":{},\"id\":\"1685\",\"type\":\"BasicTickFormatter\"},{\"attributes\":{},\"id\":\"1686\",\"type\":\"BasicTicker\"},{\"attributes\":{},\"id\":\"1692\",\"type\":\"Selection\"},{\"attributes\":{},\"id\":\"1693\",\"type\":\"UnionRenderers\"},{\"attributes\":{\"label\":{\"value\":\"non har. g\"},\"renderers\":[{\"id\":\"1681\",\"type\":\"GlyphRenderer\"}]},\"id\":\"1694\",\"type\":\"LegendItem\"},{\"attributes\":{\"callback\":null,\"data\":{\"x\":[2019,2020,2021,2022,2023,2024,2025,2026,2027,2028,2029,2030,2031,2032,2033,2034,2035,2036,2037,2038,2039,2040,2041,2042,2043,2044,2045,2046,2047,2048,2049,2050,2051,2052,2053,2054,2055,2056,2057,2058,2059,2060,2061,2062,2063,2064,2065,2066,2067,2068,2069,2070,2071,2072,2073,2074,2075,2076,2077,2078,2079,2080,2081,2082,2083,2084,2085,2086,2087,2088,2089,2090,2091,2092,2093,2094,2095,2096,2097,2098,2099,2100,2101,2102,2103,2104,2105,2106,2107,2108,2109,2110,2111,2112,2113,2114,2115,2116,2117],\"y\":{\"__ndarray__\":\"wOgKwuDtpj8gUJXfe5WmP8DFMTnOP6Y/IFTyopLtpT8g9tJENZ6lPyD4sEPyUKU/wLZkEcgFpT8gRB8CqL2kP6BBHx7ceKQ/gGgc1/U2pD/ATUSgYvejP4DWmcERuqM/QPl3Qph/oz/gAXweOEijP+CxvcTBE6M/4FkSxPXhoj/g+nx417KiPyB/WEWlhqI/ADr8kwBeoj/gL3SAXjmiP+CQNQmRGKI/YKoV4Sf7oT+ACIRc+N+hP2A0vSmMxqE/wIKjHhmvoT+AIseHqJmhP4B5hHqphaE/QO43qPhxoT+Al2V8/F2hP6CU8i2tSaE/IKFk4vE0oT9gOsImsx+hP0BDR9joCaE/gM04YJjzoD+AUJotytygP6Dpc4F8xaA/II/UjqutoD/AuLh8WpWgP0AJ3NOTfKA/AAzlNnljoD+AZ2iNll6gPwDbNMUjWaA/gMX/nT1ToD/gaB6V80ygP6CJlb9nRqA/wDGJTtM/oD9AyGW2ZTmgP8B1TNovM6A/wKX69TUtoD/AnwF5fSegPwBQrHYNIqA/YGZeqOkcoD9AaNYcChigPwC4wt5hE6A/APZH3+cOoD+AnsZtrwqgP+D2znbJBqA/4MpLrRoDoD+AWW1guP6fP0ATt5q+9p8/QOgwJ9Tunz/A1q0mcOefP4C63EFa4J8/wEMCiWvZnz9ADFzoidKfP4DBE8/ny58/QJvRzLXFnz9A+eSoq7+fP0Dtr2qtuZ8/AIw8xLuznz/ANPYJE66fP0Bj+fPcqJ8/wE84mP2jnz9AO9Qwd5+fPwBahvFbm58/AC2hudmXnz/AsJ97GpWfPwAt3QIqk58/QIwAOhaSnz/AChqt5JGfPwCL2xY/kp8/QFHGFreSnz8ATaytW5OfP4BEmj5klJ8/QFUWAtGVnz+A668xUJefPwAzkXqamJ8/gIKzr7iZnz8AUR0/r5qfPwA4UaJ8m58/QBYXUymcnz/A7tRLv5yfPwDxZ7A/nZ8/wIulgaqdnz+AKmszAJ6fPwBYXjREnp8/gK65ZHienz8AW1FdoJ6fPwDD7OvBnp8/\",\"dtype\":\"float64\",\"shape\":[99]}},\"selected\":{\"id\":\"1794\",\"type\":\"Selection\"},\"selection_policy\":{\"id\":\"1795\",\"type\":\"UnionRenderers\"}},\"id\":\"1714\",\"type\":\"ColumnDataSource\"},{\"attributes\":{\"fill_color\":{\"value\":\"green\"},\"line_color\":{\"value\":\"green\"},\"x\":{\"field\":\"x\"},\"y\":{\"field\":\"y\"}},\"id\":\"1696\",\"type\":\"Circle\"},{\"attributes\":{\"fill_alpha\":{\"value\":0.1},\"fill_color\":{\"value\":\"#1f77b4\"},\"line_alpha\":{\"value\":0.1},\"line_color\":{\"value\":\"#1f77b4\"},\"x\":{\"field\":\"x\"},\"y\":{\"field\":\"y\"}},\"id\":\"1697\",\"type\":\"Circle\"},{\"attributes\":{\"data_source\":{\"id\":\"1695\",\"type\":\"ColumnDataSource\"},\"glyph\":{\"id\":\"1696\",\"type\":\"Circle\"},\"hover_glyph\":null,\"muted_glyph\":null,\"nonselection_glyph\":{\"id\":\"1697\",\"type\":\"Circle\"},\"selection_glyph\":null,\"view\":{\"id\":\"1699\",\"type\":\"CDSView\"},\"x_range_name\":\"growth\",\"y_range_name\":\"growth\"},\"id\":\"1698\",\"type\":\"GlyphRenderer\"},{\"attributes\":{\"source\":{\"id\":\"1695\",\"type\":\"ColumnDataSource\"}},\"id\":\"1699\",\"type\":\"CDSView\"},{\"attributes\":{},\"id\":\"1711\",\"type\":\"Selection\"},{\"attributes\":{},\"id\":\"1712\",\"type\":\"UnionRenderers\"},{\"attributes\":{\"label\":{\"value\":\"muslim g\"},\"renderers\":[{\"id\":\"1698\",\"type\":\"GlyphRenderer\"}]},\"id\":\"1713\",\"type\":\"LegendItem\"},{\"attributes\":{\"fill_color\":{\"value\":\"black\"},\"x\":{\"field\":\"x\"},\"y\":{\"field\":\"y\"}},\"id\":\"1715\",\"type\":\"Circle\"},{\"attributes\":{\"fill_alpha\":{\"value\":0.1},\"fill_color\":{\"value\":\"#1f77b4\"},\"line_alpha\":{\"value\":0.1},\"line_color\":{\"value\":\"#1f77b4\"},\"x\":{\"field\":\"x\"},\"y\":{\"field\":\"y\"}},\"id\":\"1716\",\"type\":\"Circle\"},{\"attributes\":{\"data_source\":{\"id\":\"1714\",\"type\":\"ColumnDataSource\"},\"glyph\":{\"id\":\"1715\",\"type\":\"Circle\"},\"hover_glyph\":null,\"muted_glyph\":null,\"nonselection_glyph\":{\"id\":\"1716\",\"type\":\"Circle\"},\"selection_glyph\":null,\"view\":{\"id\":\"1718\",\"type\":\"CDSView\"},\"x_range_name\":\"growth\",\"y_range_name\":\"growth\"},\"id\":\"1717\",\"type\":\"GlyphRenderer\"},{\"attributes\":{\"source\":{\"id\":\"1714\",\"type\":\"ColumnDataSource\"}},\"id\":\"1718\",\"type\":\"CDSView\"},{\"attributes\":{},\"id\":\"1732\",\"type\":\"Selection\"},{\"attributes\":{},\"id\":\"1733\",\"type\":\"UnionRenderers\"},{\"attributes\":{\"label\":{\"value\":\"har. g\"},\"renderers\":[{\"id\":\"1717\",\"type\":\"GlyphRenderer\"}]},\"id\":\"1734\",\"type\":\"LegendItem\"},{\"attributes\":{},\"id\":\"1785\",\"type\":\"Selection\"},{\"attributes\":{},\"id\":\"1786\",\"type\":\"UnionRenderers\"},{\"attributes\":{},\"id\":\"1794\",\"type\":\"Selection\"},{\"attributes\":{},\"id\":\"1795\",\"type\":\"UnionRenderers\"}],\"root_ids\":[\"1735\"]},\"title\":\"Bokeh Application\",\"version\":\"1.0.4\"}};\n",
       "  var render_items = [{\"docid\":\"1d70ed09-d8c3-402e-934f-18ac5a04497b\",\"notebook_comms_target\":\"1796\",\"roots\":{\"1735\":\"2850c028-4eb6-454a-bf37-04dcdaa1adb4\"}}];\n",
       "  root.Bokeh.embed.embed_items_notebook(docs_json, render_items);\n",
       "\n",
       "  }\n",
       "  if (root.Bokeh !== undefined) {\n",
       "    embed_document(root);\n",
       "  } else {\n",
       "    var attempts = 0;\n",
       "    var timer = setInterval(function(root) {\n",
       "      if (root.Bokeh !== undefined) {\n",
       "        embed_document(root);\n",
       "        clearInterval(timer);\n",
       "      }\n",
       "      attempts++;\n",
       "      if (attempts > 100) {\n",
       "        console.log(\"Bokeh: ERROR: Unable to run BokehJS code because BokehJS library is missing\");\n",
       "        clearInterval(timer);\n",
       "      }\n",
       "    }, 10, root)\n",
       "  }\n",
       "})(window);"
      ],
      "application/vnd.bokehjs_exec.v0+json": ""
     },
     "metadata": {
      "application/vnd.bokehjs_exec.v0+json": {
       "id": "1735"
      }
     },
     "output_type": "display_data"
    },
    {
     "data": {
      "application/vnd.jupyter.widget-view+json": {
       "model_id": "75488640a53843099a8ae3955d673ba7",
       "version_major": 2,
       "version_minor": 0
      },
      "text/plain": [
       "HBox(children=(VBox(children=(FloatSlider(value=0.5, max=1.0, min=0.1, step=0.05), Label(value='Haredi fertili…"
      ]
     },
     "metadata": {},
     "output_type": "display_data"
    },
    {
     "data": {
      "application/vnd.jupyter.widget-view+json": {
       "model_id": "13220195cc274b9d8b728b2bb9003c78",
       "version_major": 2,
       "version_minor": 0
      },
      "text/plain": [
       "Output()"
      ]
     },
     "metadata": {},
     "output_type": "display_data"
    }
   ],
   "source": [
    "from ipywidgets import widgets, interactive_output\n",
    "import numpy as np\n",
    "from bokeh.io import push_notebook, show, output_notebook\n",
    "from bokeh.plotting import figure\n",
    "from bokeh.layouts import row\n",
    "from bokeh.models import Range1d, LinearAxis\n",
    "\n",
    "def update(fert_h, trans_t_h, fert_a, trans_t_a, migr_fact, migr_prop, fert_prop, wh_end_fert, defect_prob):\n",
    "    global target_fert_fact_h\n",
    "    global target_fert_fact_a\n",
    "    global target_migr_fact \n",
    "    global trans_time_h\n",
    "    global trans_time_a\n",
    "    global target_prop_migr\n",
    "    global target_prop_fert\n",
    "    global dx_\n",
    "    target_fert_fact_h = fert_h; target_prop_fert = fert_prop\n",
    "    target_fert_fact_a = fert_a\n",
    "    target_migr_fact = migr_fact; target_prop_migr = migr_prop\n",
    "    dx_ = defection_rate(1-defect_prob)\n",
    "    trans_time_h = trans_t_h\n",
    "    trans_time_a = trans_t_a\n",
    "    N, S = project(100, mx_, ex_, dx_, fx_, end_fert_model = wh_end_fert)\n",
    "    G = np.apply_along_axis(lambda x : x[1:]/x[:-1], 0, S)-1\n",
    "    p_h.data_source.data['y'] = S[:,2]\n",
    "    p_a.data_source.data['y'] = S[:,1]\n",
    "    p_nh.data_source.data['y'] = S[:,0]\n",
    "    p1_dr.data_source.data['y'] = N[prod_ages,:].sum(axis = 0)/N.sum(axis = 0)\n",
    "    p1_h.data_source.data['y'] = G[:,2]\n",
    "    p1_a.data_source.data['y'] = G[:,1]\n",
    "    p1_nh.data_source.data['y'] = G[:,0]\n",
    "    push_notebook()\n",
    "    \n",
    "output_notebook()\n",
    "fert_h = widgets.FloatSlider(min = 0.1, max = 1, step = 0.05, value = 0.5)\n",
    "trans_t_h = widgets.IntSlider(min = 10, max = 60, step = 5, value = 40)\n",
    "fert_a = widgets.FloatSlider(min = 0.1, max = 1, step = 0.05, value = 0.8)\n",
    "trans_t_a = widgets.IntSlider(min = 10, max = 60, step = 5, value = 20)\n",
    "migr_fact = widgets.IntSlider(min = 1, max = 15, step = 1,value = 1)\n",
    "migr_prop = widgets.FloatSlider(min = 0.15, max = 0.7, step = 0.05, value = 0.5)\n",
    "fert_prop = widgets.FloatSlider(min = 0.15, max = 0.7, step = 0.05, value = 0.5)\n",
    "defect_prob = widgets.FloatSlider(min = 0, max = 0.6, step = 0.05, value = 0.1)\n",
    "wh_end_fert = widgets.Checkbox(value = False)\n",
    "\n",
    "ui1 = widgets.VBox([fert_h, widgets.Label(\"Haredi fertility factor\"),\n",
    "                    trans_t_h, widgets.Label(\"Haredi fert. transition time\"),\n",
    "                   fert_prop, widgets.Label(\"Haredi target proportion\")])\n",
    "ui2 = widgets.VBox([fert_a, widgets.Label(\"Muslim fertility factor\"),\n",
    "                    trans_t_a, widgets.Label(\"Mulsim fert. transition time\"),\n",
    "                    wh_end_fert, widgets.Label(\"Endogeneic Haredi fertility\")])\n",
    "ui3 = widgets.VBox([migr_fact, widgets.Label(\"Emigration factor\"),\n",
    "                    migr_prop, widgets.Label(\"Emigration target proportion\"),\n",
    "                   defect_prob, widgets.Label(\"Defection probability\")])\n",
    "ui = widgets.HBox([ui1, ui2, ui3])\n",
    "\n",
    "N, S = project(100, mx_, ex_, dx_, fx_, end_fert_model = False)\n",
    "G = np.apply_along_axis(lambda x : x[1:]/x[:-1], 0, S)-1\n",
    "years = range(2018, 2118)\n",
    "p = figure(plot_height = 300, plot_width = 450, x_axis_label = \"Year\", y_axis_label = \"Pop.(1000s)\")\n",
    "p_h = p.circle(years, S[:,2], color = \"black\", legend = \"haredi\")\n",
    "p_a = p.circle(years, S[:,1], color = \"green\", legend = \"muslim\")\n",
    "p_nh = p.circle(years, S[:,0], color = \"blue\", legend = \"non haredi\")\n",
    "p.legend.location = \"top_left\"\n",
    "p.legend.background_fill_alpha = 0.2\n",
    "\n",
    "p1 = figure(plot_height = 300, plot_width = 450, y_range = (0.4, 0.55), x_axis_label = \"Year\",\n",
    "            y_axis_label = \"age dependency ratio\")\n",
    "p1_dr = p1.line(years, N[prod_ages,:].sum(axis = 0)/N.sum(axis = 0), legend = \"ratio\")\n",
    "p1.extra_y_ranges = {\"growth\": Range1d(start=-0.02, end=0.05)}\n",
    "p1.extra_x_ranges = {\"growth\": Range1d(start = years[0], end = years[-1])}\n",
    "p1.add_layout(LinearAxis(y_range_name=\"growth\", axis_label= \"Growth\"), 'right')\n",
    "p1_nh = p1.circle(years[1:], G[:,0], y_range_name='growth', x_range_name='growth',  color='blue', legend = \"non har. g\")\n",
    "p1_a = p1.circle(years[1:], G[:,1], y_range_name='growth', x_range_name='growth', color='green', legend = \"muslim g\")\n",
    "p1_h = p1.circle(years[1:], G[:,2], y_range_name='growth', x_range_name='growth', color='black', legend = \"har. g\")\n",
    "p1.legend.location = \"bottom_left\"\n",
    "p1.legend.orientation = \"horizontal\"\n",
    "p1.legend.background_fill_alpha = 0.2\n",
    "show(row(p,p1), notebook_handle=True)\n",
    "\n",
    "out = widgets.interactive_output(update, {'fert_h': fert_h, \n",
    "                                          'trans_t_h': trans_t_h,\n",
    "                                          'fert_a': fert_a, \n",
    "                                          'trans_t_a': trans_t_a,\n",
    "                                          'migr_fact': migr_fact,\n",
    "                                         'migr_prop': migr_prop,\n",
    "                                         'fert_prop': fert_prop,\n",
    "                                         'wh_end_fert': wh_end_fert,\n",
    "                                         'defect_prob': defect_prob})\n",
    "display(ui, out)\n"
   ]
  },
  {
   "cell_type": "markdown",
   "metadata": {},
   "source": [
    "**Conclusions**\n",
    "\n",
    "Unlike popular beliefs, the weight of the Muslim population, according to all reasonable scenarios, is not going to increase significantly in the following decades, and the Jewish political hegemony will very likely not be challenged by any demographic development on behalf of the Muslim population. The main challenge, however, will come from the rapid growth of the Haredi population. In any reasonable scenario, Haredim will become an increasingly important demographic factor. If they keep up with the current growth, they should become the largest group in about 50-60 years. Irrespective of any ideological agenda, given the low level of qualification and active population, as well as the low age dependency ratio in this group, Israel should prepare for considerable economic challenges following the rise in the share of Haredim in the total population. Here, I have tried to show here to what extent these consequences can be mitigated with a specific decline in fertility and with an increasing defection rate of Haredim. Efforts in social sciences should be made to predict such trends in the following decades, so as to be better prepared for future evolutions.\n",
    "\n",
    "To conclude, a caveat should be emphasized. This exercise deals with projections of populations, but cannot predicts sociological transformations of a society. It is likely that disruption of traditional demgographic balances also leads to a redeﬁnition of borders between groups. Demographic growth is accompanied by increasing inﬂuence in various sphere (political, ideological, educational) and by a lost of distinctive features that used to isolate a speciﬁc group in the past. In addition, the often observed brain drain in groups recently ousted from power results in a considerable ideological weakening of these groups, which in turn become more malleable to the inﬂuence of the new ruling classes. These changes often results in a blurring between social groups, and evantually to a complete reorganisation of the social ﬁeld, which cannot be predicted by population models."
   ]
  }
 ],
 "metadata": {
  "colab": {
   "collapsed_sections": [],
   "name": "main1.ipynb",
   "provenance": []
  },
  "kernelspec": {
   "display_name": "Python 3",
   "language": "python",
   "name": "python3"
  },
  "language_info": {
   "codemirror_mode": {
    "name": "ipython",
    "version": 3
   },
   "file_extension": ".py",
   "mimetype": "text/x-python",
   "name": "python",
   "nbconvert_exporter": "python",
   "pygments_lexer": "ipython3",
   "version": "3.7.3"
  },
  "widgets": {
   "application/vnd.jupyter.widget-state+json": {
    "0207200ab319478a9e1023df7e6fda37": {
     "model_module": "@jupyter-widgets/controls",
     "model_name": "VBoxModel",
     "state": {
      "_dom_classes": [
       "widget-interact"
      ],
      "_model_module": "@jupyter-widgets/controls",
      "_model_module_version": "1.4.0",
      "_model_name": "VBoxModel",
      "_view_count": null,
      "_view_module": "@jupyter-widgets/controls",
      "_view_module_version": "1.4.0",
      "_view_name": "VBoxView",
      "box_style": "",
      "children": [
       "IPY_MODEL_34787f3d5777489d90b2b5da8da6e2db",
       "IPY_MODEL_5d68e6a9e0034b5299c7b741a1d50a5b"
      ],
      "layout": "IPY_MODEL_9da0b38fe3f548bdb84bbde9e9c66e4b"
     }
    },
    "34787f3d5777489d90b2b5da8da6e2db": {
     "model_module": "@jupyter-widgets/controls",
     "model_name": "IntSliderModel",
     "state": {
      "_dom_classes": [],
      "_model_module": "@jupyter-widgets/controls",
      "_model_module_version": "1.4.0",
      "_model_name": "IntSliderModel",
      "_view_count": null,
      "_view_module": "@jupyter-widgets/controls",
      "_view_module_version": "1.4.0",
      "_view_name": "IntSliderView",
      "continuous_update": true,
      "description": "fact",
      "description_tooltip": null,
      "disabled": false,
      "layout": "IPY_MODEL_cc6615987d3e4a3d810d5a4b6ccc5b81",
      "max": 10,
      "min": 1,
      "orientation": "horizontal",
      "readout": true,
      "readout_format": "d",
      "step": 1,
      "style": "IPY_MODEL_5ffd49145c744853b5fac9c19e3d8bca",
      "value": 5
     }
    },
    "5d68e6a9e0034b5299c7b741a1d50a5b": {
     "model_module": "@jupyter-widgets/output",
     "model_name": "OutputModel",
     "state": {
      "_dom_classes": [],
      "_model_module": "@jupyter-widgets/output",
      "_model_module_version": "1.0.0",
      "_model_name": "OutputModel",
      "_view_count": null,
      "_view_module": "@jupyter-widgets/output",
      "_view_module_version": "1.0.0",
      "_view_name": "OutputView",
      "layout": "IPY_MODEL_957b45915e9d452b9610f72a1aaf3b1e",
      "msg_id": "8b6555edc9024e58b5a1f6a0bd51da11",
      "outputs": []
     }
    },
    "5ffd49145c744853b5fac9c19e3d8bca": {
     "model_module": "@jupyter-widgets/controls",
     "model_name": "SliderStyleModel",
     "state": {
      "_model_module": "@jupyter-widgets/controls",
      "_model_module_version": "1.4.0",
      "_model_name": "SliderStyleModel",
      "_view_count": null,
      "_view_module": "@jupyter-widgets/base",
      "_view_module_version": "1.1.0",
      "_view_name": "StyleView",
      "description_width": "",
      "handle_color": null
     }
    },
    "957b45915e9d452b9610f72a1aaf3b1e": {
     "model_module": "@jupyter-widgets/base",
     "model_name": "LayoutModel",
     "state": {
      "_model_module": "@jupyter-widgets/base",
      "_model_module_version": "1.1.0",
      "_model_name": "LayoutModel",
      "_view_count": null,
      "_view_module": "@jupyter-widgets/base",
      "_view_module_version": "1.1.0",
      "_view_name": "LayoutView",
      "align_content": null,
      "align_items": null,
      "align_self": null,
      "border": null,
      "bottom": null,
      "display": null,
      "flex": null,
      "flex_flow": null,
      "grid_area": null,
      "grid_auto_columns": null,
      "grid_auto_flow": null,
      "grid_auto_rows": null,
      "grid_column": null,
      "grid_gap": null,
      "grid_row": null,
      "grid_template_areas": null,
      "grid_template_columns": null,
      "grid_template_rows": null,
      "height": null,
      "justify_content": null,
      "left": null,
      "margin": null,
      "max_height": null,
      "max_width": null,
      "min_height": null,
      "min_width": null,
      "order": null,
      "overflow": null,
      "overflow_x": null,
      "overflow_y": null,
      "padding": null,
      "right": null,
      "top": null,
      "visibility": null,
      "width": null
     }
    },
    "9da0b38fe3f548bdb84bbde9e9c66e4b": {
     "model_module": "@jupyter-widgets/base",
     "model_name": "LayoutModel",
     "state": {
      "_model_module": "@jupyter-widgets/base",
      "_model_module_version": "1.1.0",
      "_model_name": "LayoutModel",
      "_view_count": null,
      "_view_module": "@jupyter-widgets/base",
      "_view_module_version": "1.1.0",
      "_view_name": "LayoutView",
      "align_content": null,
      "align_items": null,
      "align_self": null,
      "border": null,
      "bottom": null,
      "display": null,
      "flex": null,
      "flex_flow": null,
      "grid_area": null,
      "grid_auto_columns": null,
      "grid_auto_flow": null,
      "grid_auto_rows": null,
      "grid_column": null,
      "grid_gap": null,
      "grid_row": null,
      "grid_template_areas": null,
      "grid_template_columns": null,
      "grid_template_rows": null,
      "height": null,
      "justify_content": null,
      "left": null,
      "margin": null,
      "max_height": null,
      "max_width": null,
      "min_height": null,
      "min_width": null,
      "order": null,
      "overflow": null,
      "overflow_x": null,
      "overflow_y": null,
      "padding": null,
      "right": null,
      "top": null,
      "visibility": null,
      "width": null
     }
    },
    "cc6615987d3e4a3d810d5a4b6ccc5b81": {
     "model_module": "@jupyter-widgets/base",
     "model_name": "LayoutModel",
     "state": {
      "_model_module": "@jupyter-widgets/base",
      "_model_module_version": "1.1.0",
      "_model_name": "LayoutModel",
      "_view_count": null,
      "_view_module": "@jupyter-widgets/base",
      "_view_module_version": "1.1.0",
      "_view_name": "LayoutView",
      "align_content": null,
      "align_items": null,
      "align_self": null,
      "border": null,
      "bottom": null,
      "display": null,
      "flex": null,
      "flex_flow": null,
      "grid_area": null,
      "grid_auto_columns": null,
      "grid_auto_flow": null,
      "grid_auto_rows": null,
      "grid_column": null,
      "grid_gap": null,
      "grid_row": null,
      "grid_template_areas": null,
      "grid_template_columns": null,
      "grid_template_rows": null,
      "height": null,
      "justify_content": null,
      "left": null,
      "margin": null,
      "max_height": null,
      "max_width": null,
      "min_height": null,
      "min_width": null,
      "order": null,
      "overflow": null,
      "overflow_x": null,
      "overflow_y": null,
      "padding": null,
      "right": null,
      "top": null,
      "visibility": null,
      "width": null
     }
    }
   }
  }
 },
 "nbformat": 4,
 "nbformat_minor": 1
}
